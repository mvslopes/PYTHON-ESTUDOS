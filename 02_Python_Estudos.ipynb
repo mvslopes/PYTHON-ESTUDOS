{
  "nbformat": 4,
  "nbformat_minor": 0,
  "metadata": {
    "colab": {
      "provenance": [],
      "authorship_tag": "ABX9TyMaijtdjKK0Q1jQRGWkq0IS"
    },
    "kernelspec": {
      "name": "python3",
      "display_name": "Python 3"
    },
    "language_info": {
      "name": "python"
    }
  },
  "cells": [
    {
      "cell_type": "markdown",
      "source": [
        "# Aula 07 - Operações aritmeticos\n",
        "soma = +\n",
        "\n",
        "subtração = -\n",
        "\n",
        "Multiplicação = *\n",
        "\n",
        "Divisão não inteira = /\n",
        "\n",
        "Potenciação = **\n",
        "\n",
        "Divisão inteira = //\n",
        "\n",
        "resto da Divisão= %\n",
        "\n",
        "Observação, todos os operadores aritmeticos acima precisão de operandos.\n",
        "Um Operando aritmeticos pode ser um número e uma váriavel.\n",
        "\n",
        "Nos Demais tipos de operadres podemos ter um operando como variavel\n",
        "\n",
        "Os operadores aritméticos podem ser operadores binrarios, ou seja são\n",
        "operadores que necessitam de dois operandos.\n",
        "\n",
        "##### QUAIS SÃO AS ORDENS DE PRECÊNDECIIA DOS OPERADORES E QUAIS SÃO OS OPERADORES QUE SÃO EXECUTADOS EM PRIMEIRO LUGAR?\n",
        "\n",
        "01-Ordem primeira = () primeira coisa  ser calculada quando temos uma expressão\n",
        "02-Ordem segunda = ** Potência\n",
        "03-Ordem terceira = * multiplicação, / Dibisão, // Divisão inteira, % resto da divisão, ( o que aparacer primeiro nessa terceiro lugar)\n",
        "04-Ordem Quarta = + Soma e - Subtração\n",
        "\n",
        "\n"
      ],
      "metadata": {
        "id": "5QyH-hfKPTf9"
      }
    },
    {
      "cell_type": "code",
      "execution_count": null,
      "metadata": {
        "colab": {
          "base_uri": "https://localhost:8080/"
        },
        "id": "lNs3ZUvTPSv1",
        "outputId": "6b74e6e7-87db-4b9c-d339-a6fd630d49d5"
      },
      "outputs": [
        {
          "output_type": "stream",
          "name": "stdout",
          "text": [
            " qual é seu nome:Marcus \n",
            "Prazer te conhecer Marcus              !\n"
          ]
        }
      ],
      "source": [
        "nome = input(\" qual é seu nome:\")\n",
        "print('Prazer te conhecer {:20}!'.format(nome))"
      ]
    },
    {
      "cell_type": "code",
      "source": [
        "nome = input(\" qual é seu nome:\")\n",
        "print('Prazer te conhecer {:<20}!'.format(nome))   #alinhamento a esquerda :<"
      ],
      "metadata": {
        "colab": {
          "base_uri": "https://localhost:8080/"
        },
        "id": "4jT7yTShSk0Z",
        "outputId": "c41120ce-3dc7-42d1-c492-37931eb472cf"
      },
      "execution_count": null,
      "outputs": [
        {
          "output_type": "stream",
          "name": "stdout",
          "text": [
            " qual é seu nome:Marcus\n",
            "Prazer te conhecer Marcus              !\n"
          ]
        }
      ]
    },
    {
      "cell_type": "code",
      "execution_count": null,
      "metadata": {
        "colab": {
          "base_uri": "https://localhost:8080/"
        },
        "outputId": "e6dad7d3-11bc-4339-9f41-d892e3374eb6",
        "id": "sDd2qKXMSlOQ"
      },
      "outputs": [
        {
          "output_type": "stream",
          "name": "stdout",
          "text": [
            " qual é seu nome:Marcus \n",
            "Prazer te conhecer              Marcus !\n"
          ]
        }
      ],
      "source": [
        "nome = input(\" qual é seu nome:\")\n",
        "print('Prazer te conhecer {:>20}!'.format(nome)) # alinhamento a direira :>"
      ]
    },
    {
      "cell_type": "code",
      "source": [
        "nome = input(\" qual é seu nome:\")\n",
        "print('Prazer te conhecer {:^20}!'.format(nome)) # centralizado :^"
      ],
      "metadata": {
        "colab": {
          "base_uri": "https://localhost:8080/"
        },
        "id": "bks6PNCjTOsf",
        "outputId": "c35362b1-b5b7-469c-bd01-599e0a68e967"
      },
      "execution_count": null,
      "outputs": [
        {
          "output_type": "stream",
          "name": "stdout",
          "text": [
            " qual é seu nome:Marcus\n",
            "Prazer te co^hecer        Marcus       !\n"
          ]
        }
      ]
    },
    {
      "cell_type": "code",
      "source": [
        "nome = input(\" qual é seu nome:\")\n",
        "print('Prazer te co^hecer {:=^20}!'.format(nome)) # centralizado :^"
      ],
      "metadata": {
        "colab": {
          "base_uri": "https://localhost:8080/"
        },
        "id": "QA1oujDjX_Pp",
        "outputId": "58bad238-b794-4770-dc15-66473ac46f6c"
      },
      "execution_count": null,
      "outputs": [
        {
          "output_type": "stream",
          "name": "stdout",
          "text": [
            " qual é seu nome:Aana\n",
            "Prazer te co^hecer ========Aana========!\n"
          ]
        }
      ]
    },
    {
      "cell_type": "code",
      "source": [
        "n1 = int(input('Digite um número:'))\n",
        "n2 = int(input('Digite um número:'))\n",
        "s = n1 + n2\n",
        "sub = n1 - n2\n",
        "m = n1 * n2\n",
        "d = n1 / n2\n",
        "di = n1 // n2\n",
        "e = n1 ** n2\n",
        "print('A soma é {}, a subtração é {}, o produto é {} e a divisão é {:.3f}'.format(s, sub, m, d), end=' ')\n",
        "print('A divisão inteira é {} e a exponenciação é {}'.format (di, e))\n"
      ],
      "metadata": {
        "colab": {
          "base_uri": "https://localhost:8080/"
        },
        "id": "njxnanOxYY2g",
        "outputId": "4f4ea548-f3b4-46bf-e174-947365ad8d3f"
      },
      "execution_count": null,
      "outputs": [
        {
          "output_type": "stream",
          "name": "stdout",
          "text": [
            "Digite um número:4\n",
            "Digite um número:3\n",
            "A soma é 7, a subtração é 1, o produto é 12 e a divisão é 1.333 A divisão inteira é 1 e a exponenciação é 64\n"
          ]
        }
      ]
    },
    {
      "cell_type": "markdown",
      "source": [
        "### Exercício Python 5: Faça um programa que leia um número Inteiro e mostre na tela o seu sucessor e seu antecessor."
      ],
      "metadata": {
        "id": "brvGfjsRrzBF"
      }
    },
    {
      "cell_type": "code",
      "source": [
        "n = int(input(\"Digite um numero: \"))\n",
        "antecessor = n - 1\n",
        "sucessor = n + 1\n",
        "print(f\" o numero é {n} e seu antecessor é {antecessor} e su sucessor é {sucessor}\")"
      ],
      "metadata": {
        "colab": {
          "base_uri": "https://localhost:8080/"
        },
        "id": "SwPGNgfjyTmr",
        "outputId": "ad9d3804-bb86-4411-d3f3-05456c020855"
      },
      "execution_count": null,
      "outputs": [
        {
          "output_type": "stream",
          "name": "stdout",
          "text": [
            "Digite um numero: 1000\n",
            " o numero é 1000 e seu antecessor é 999 e su sucessor é 1001\n"
          ]
        }
      ]
    },
    {
      "cell_type": "markdown",
      "source": [
        "### Outra forma de calcular -Exercício Python 5: Faça um programa que leia um número Inteiro e mostre na tela o seu sucessor e seu antecessor."
      ],
      "metadata": {
        "id": "Sxo23j_W_oyF"
      }
    },
    {
      "cell_type": "code",
      "source": [
        "n = int(input(\"Digite um numero: \"))\n",
        "print(f\" o numero é {n} e seu antecessor é {n - 1} e su sucessor é {n + 1 }\")"
      ],
      "metadata": {
        "colab": {
          "base_uri": "https://localhost:8080/"
        },
        "id": "KnBUkKRKyxZF",
        "outputId": "be0cb2fc-1167-4d46-d1c2-e37d40cb51c2"
      },
      "execution_count": null,
      "outputs": [
        {
          "output_type": "stream",
          "name": "stdout",
          "text": [
            "Digite um numero: 10\n",
            " o numero é 10 e seu antecessor é 9 e su sucessor é 11\n"
          ]
        }
      ]
    },
    {
      "cell_type": "markdown",
      "source": [
        "### Exercício Python 006: Crie um algoritmo que leia um número e mostre o seu dobro, triplo e raiz quadrada."
      ],
      "metadata": {
        "id": "RYbfmkQmAxEf"
      }
    },
    {
      "cell_type": "code",
      "source": [
        "n = int(input(\" Digite um numero:\"))\n",
        "d = n * 2\n",
        "t = n * 3\n",
        "r = n ** (1/2)\n",
        "print('O número é {} \\nO seu dobro é {} \\nO seu  triplo é {} \\nA sua raiz quadrada é {:.2f}'.format(n, d, t, r))\n"
      ],
      "metadata": {
        "colab": {
          "base_uri": "https://localhost:8080/"
        },
        "id": "6YEnNykNAyez",
        "outputId": "2c059d35-0f7b-42ea-c93c-9825478372df"
      },
      "execution_count": null,
      "outputs": [
        {
          "output_type": "stream",
          "name": "stdout",
          "text": [
            " Digite um numero:10\n",
            "O número é 10 \n",
            "O seu dobro é 20 \n",
            "O seu  triplo é 30 \n",
            "A sua raiz quadrada é 3.16\n"
          ]
        }
      ]
    },
    {
      "cell_type": "markdown",
      "source": [
        "### Outra forma de calcular Exercício Python 006: Crie um algoritmo que leia um número e mostre o seu dobro, triplo e raiz quadrada."
      ],
      "metadata": {
        "id": "e4WoXE28TUcx"
      }
    },
    {
      "cell_type": "code",
      "source": [
        "n = int(input(\" Digite um numero:\"))\n",
        "print('O número é {} \\nO seu dobro é {} \\nO seu  triplo é {} \\nA sua raiz quadrada é {:.2f}'.format(n, (n**2),(n**3), (n**(1/2))))"
      ],
      "metadata": {
        "colab": {
          "base_uri": "https://localhost:8080/"
        },
        "id": "jptV9og7CcnN",
        "outputId": "7de268a5-4bdb-453d-d672-d104f6527b0b"
      },
      "execution_count": null,
      "outputs": [
        {
          "output_type": "stream",
          "name": "stdout",
          "text": [
            " Digite um numero:10\n",
            "O número é 10 \n",
            "O seu dobro é 100 \n",
            "O seu  triplo é 1000 \n",
            "A sua raiz quadrada é 3.16\n"
          ]
        }
      ]
    },
    {
      "cell_type": "markdown",
      "source": [
        " ### Exercício Python 7: Desenvolva um programa que leia as duas notas de um aluno, calcule e mostre a sua média."
      ],
      "metadata": {
        "id": "xvvMfEyV70h3"
      }
    },
    {
      "cell_type": "code",
      "source": [
        "\n",
        "n1 = float(input(\" Digite um número:\"))\n",
        "n2 = float (input(\" Digite um numero:\"))\n",
        "média = (n1 + n2)/2\n",
        "print('A média entre {:.1f} e {:.1f} é {:.2f}'.format(n1, n2, média))"
      ],
      "metadata": {
        "id": "p77tYGoXT2BU",
        "colab": {
          "base_uri": "https://localhost:8080/"
        },
        "outputId": "3d1cf5b1-5415-4c42-d129-25d32ae2c8c1"
      },
      "execution_count": null,
      "outputs": [
        {
          "output_type": "stream",
          "name": "stdout",
          "text": [
            " Digite um número:10\n",
            " Digite um numero:10\n",
            "A média entr 10.0 e 10.0 é 10.00\n"
          ]
        }
      ]
    },
    {
      "cell_type": "markdown",
      "source": [],
      "metadata": {
        "id": "rGivM2IPdJoX"
      }
    },
    {
      "cell_type": "markdown",
      "source": [
        "### Exercício Python 8: Escreva um programa que leia um valor em metros e o exiba convertido em centímetros e milímetros."
      ],
      "metadata": {
        "id": "z2e8x9kvJeEd"
      }
    },
    {
      "cell_type": "code",
      "source": [
        "# escala: KM-HM-DAM-M-DM-CM-MM\n",
        "medida = float(input(\" Digite uma medida em metros:\"))\n",
        "dm = medida * 10\n",
        "cm = medida * 100\n",
        "mm = medida * 1000\n",
        "dam = medida // 10\n",
        "hm = medida // 100\n",
        "km = medida // 1000\n",
        "print('A medida de {:.0f} m correspende a {:.0f} dm , a {:.0f} cm e a {:.0f} mm'.format(medida, dm, cm, mm))\n",
        "print('A medida de {:.0f} m correspende a {:.3f} dam , a {:.3f} hm e a {:.3f} km'.format(medida, dam, hm, km))"
      ],
      "metadata": {
        "colab": {
          "base_uri": "https://localhost:8080/"
        },
        "id": "_fBM6ydJHGyr",
        "outputId": "1cbb55d2-c669-4e22-8e6d-79437835c7c7"
      },
      "execution_count": null,
      "outputs": [
        {
          "output_type": "stream",
          "name": "stdout",
          "text": [
            " Digite uma medida em metros:10\n",
            "A medida de 10 m correspende a 100 dm , a 1000 cm e a 10000 mm\n",
            "A medida de 10 m correspende a 1.000 dam , a 0.000 hm e a 0.000 km\n"
          ]
        }
      ]
    },
    {
      "cell_type": "markdown",
      "source": [
        "### Exercício Python 9: Faça um programa que leia um número Inteiro qualquer e mostre na tela a sua tabuada."
      ],
      "metadata": {
        "id": "vbmt0FijdOWh"
      }
    },
    {
      "cell_type": "code",
      "source": [
        "num = int(input('Digite um numero para ver sua tabuada:'))\n",
        "print('='*12)\n",
        "print('{} X {:2} = {}'.format(num, 1, num*1))\n",
        "print('{} X {:2} = {}'.format(num, 2, num*2))\n",
        "print('{} X {:2} = {}'.format(num, 3, num*3))\n",
        "print('{} X {:2} = {}'.format(num, 4, num*4))\n",
        "print('{} X {:2} = {}'.format(num, 5, num*5))\n",
        "print('{} X {:2} = {}'.format(num, 6, num*6))\n",
        "print('{} X {:2} = {}'.format(num, 7, num*7))\n",
        "print('{} X {:2} = {}'.format(num, 8, num*8))\n",
        "print('{} X {:2} = {}'.format(num, 9, num*9))\n",
        "print('{} X {:2} = {}'.format(num, 10, num*10))\n",
        "print('='*12)\n"
      ],
      "metadata": {
        "id": "NrzD6UjOOFni",
        "colab": {
          "base_uri": "https://localhost:8080/"
        },
        "outputId": "6a69599b-5fa1-4e6a-b34d-df042d81e3fd"
      },
      "execution_count": null,
      "outputs": [
        {
          "output_type": "stream",
          "name": "stdout",
          "text": [
            "Digite um numero para ver sua tabuada:7\n",
            "============\n",
            "7 X  1 = 7\n",
            "7 X  2 = 14\n",
            "7 X  3 = 21\n",
            "7 X  4 = 28\n",
            "7 X  5 = 35\n",
            "7 X  6 = 42\n",
            "7 X  7 = 49\n",
            "7 X  8 = 56\n",
            "7 X  9 = 63\n",
            "7 X 10 = 70\n",
            "============\n"
          ]
        }
      ]
    },
    {
      "cell_type": "markdown",
      "source": [
        "### Exercício Python 10: Crie um programa que leia quanto dinheiro uma pessoa tem na carteira e mostre quantos dólares ela pode comprar."
      ],
      "metadata": {
        "id": "wicOQr07oQYO"
      }
    },
    {
      "cell_type": "code",
      "source": [
        "real = float(input('Qual quantidade de dinheiro que vocẽ tem na carteira? R$: '))\n",
        "cotac = 5.35\n",
        "dolar = real /  cotac\n",
        "print(' Com R$ {:.3f} você consegue comprar US$ {:.3f}'.format(real, dolar))"
      ],
      "metadata": {
        "colab": {
          "base_uri": "https://localhost:8080/"
        },
        "id": "smIk0OzgltLq",
        "outputId": "0e48c9d1-e94c-4523-800b-71e02c8bad15"
      },
      "execution_count": null,
      "outputs": [
        {
          "output_type": "stream",
          "name": "stdout",
          "text": [
            "Qual quantidade de dinheiro que vocẽ tem na carteira? R$: 40.000\n",
            " Com R$ 40.000 você consegue comprar US$ 7.477\n"
          ]
        }
      ]
    },
    {
      "cell_type": "markdown",
      "source": [
        "### Exercício Python 11: Faça um programa que leia a largura e a altura de uma parede em metros, calcule a sua área e a quantidade de tinta necessária para pintá-la, sabendo que cada litro de tinta pinta uma área de 2 metros quadrados."
      ],
      "metadata": {
        "id": "ZZwLw1lk3RUE"
      }
    },
    {
      "cell_type": "code",
      "source": [
        "from prompt_toolkit.key_binding.bindings.open_in_editor import load_open_in_editor_bindings\n",
        "largura = float(input( 'Digite a largura da parade em metros:'))\n",
        "altura = float(input( 'Digite a altura da parade em metros:'))\n",
        "area = largura * altura\n",
        "Litros_n = area / 2\n",
        "print('A parede tem a dimensão de {:.1f} m de largura, {:.1f} m de altura e sua área é {:.1f} m2'.format(largura, altura, area))\n",
        "print('para pintar {:.1f} m2 de área, necessitamos de {:.1f} litros de tinta'.format(area, Litros_n))"
      ],
      "metadata": {
        "colab": {
          "base_uri": "https://localhost:8080/"
        },
        "id": "aLilE6h-v42t",
        "outputId": "0ad48e1b-f3e7-42f1-f323-7100d8bb79f4"
      },
      "execution_count": null,
      "outputs": [
        {
          "output_type": "stream",
          "name": "stdout",
          "text": [
            "Digite a largura da parade em metros:5\n",
            "Digite a altura da parade em metros:5\n",
            "A parede tem a dimensão de 5.0 m de largura, 5.0 m de altura e sua área é 25.0 m2\n",
            "para pintar 25.0 m2 de área, necessitamos de 12.5 litros de tinta\n"
          ]
        }
      ]
    },
    {
      "cell_type": "markdown",
      "source": [
        "### Exercício Python 12: Faça um algoritmo que leia o preço de um produto e mostre seu novo preço, com 5% de desconto.\n"
      ],
      "metadata": {
        "id": "5YqxJ0uUC9ak"
      }
    },
    {
      "cell_type": "code",
      "source": [
        "preço = float(input('Qual o preço do produto em R$: '))\n",
        "novop = preço - (preço * 5/ 100)\n",
        "print(' O produto que custa R$ {:.2f}, na promoção com 5% de desconto cutará {:.2f}'.format(preço, novop))"
      ],
      "metadata": {
        "colab": {
          "base_uri": "https://localhost:8080/"
        },
        "id": "u80QeHbBC_Ry",
        "outputId": "f434df50-1613-407a-adc4-85f6e22b0732"
      },
      "execution_count": null,
      "outputs": [
        {
          "output_type": "stream",
          "name": "stdout",
          "text": [
            "Qual o preço do produto em R$: 100\n",
            " O produto que custa R$ 100.00, na promoção com 5% de desconto cutará 95.00\n"
          ]
        }
      ]
    },
    {
      "cell_type": "markdown",
      "source": [
        "### Exercício Python 13: Faça um algoritmo que leia o salário de um funcionário e mostre seu novo salário, com 15% de aumento."
      ],
      "metadata": {
        "id": "3Sk7ziyQMGYm"
      }
    },
    {
      "cell_type": "code",
      "source": [
        "salario = float(input('Qual o salário do funcionário em R$: '))\n",
        "novosal = salario + (salario * 15/ 100)\n",
        "print(' O salario do funcionario é de R$ {:.2f}, com o aumento de 15% o novo salário será de R$ {:.2f}'.format(salario, novosal))"
      ],
      "metadata": {
        "colab": {
          "base_uri": "https://localhost:8080/"
        },
        "id": "01OfaLiQMH3G",
        "outputId": "b222a5ef-61b9-412b-ecd8-3d4198c462d1"
      },
      "execution_count": null,
      "outputs": [
        {
          "output_type": "stream",
          "name": "stdout",
          "text": [
            "Qual o salário do funcionário em R$: 1000\n",
            " O salario do funcionario é de R$ 1000.00, com o aumento de 15% o novo salário será de R$ 1150.00\n"
          ]
        }
      ]
    },
    {
      "cell_type": "markdown",
      "source": [],
      "metadata": {
        "id": "exHXbWtGNUed"
      }
    },
    {
      "cell_type": "markdown",
      "source": [
        "### Exercício Python 14: Escreva um programa que converta uma temperatura digitando em graus Celsius e converta para graus Fahrenheit."
      ],
      "metadata": {
        "id": "lDwLoToLNZ-d"
      }
    },
    {
      "cell_type": "code",
      "source": [
        "tempc = float(input('Qual é a temperatura em graus Celsius? '))\n",
        "tempf = ((9 * tempc)/5) + 32\n",
        "print(' A temperatura em graus Celsius é {:.2f}, convertendo para o graus Fahrenheit teremos {:.2f}'.format(tempc, tempf))"
      ],
      "metadata": {
        "colab": {
          "base_uri": "https://localhost:8080/"
        },
        "id": "P8LX7H1FNbpa",
        "outputId": "e8710ed9-5c62-461c-bc2a-a37415e54266"
      },
      "execution_count": null,
      "outputs": [
        {
          "output_type": "stream",
          "name": "stdout",
          "text": [
            "Qual é a temperatura em graus Celsius? 10\n",
            " A temperatura em graus Celsius é 10.00, convertendo para o graus Fahrenheit teremos 50.00\n"
          ]
        }
      ]
    },
    {
      "cell_type": "markdown",
      "source": [
        "### Exercício Python 15: Escreva um programa que pergunte a quantidade de Km percorridos por um carro alugado e a quantidade de dias pelos quais ele foi alugado. Calcule o preço a pagar, sabendo que o carro custa 60 reais por dia e 0,15 centavos por Km rodado."
      ],
      "metadata": {
        "id": "boVHY4rtST3n"
      }
    },
    {
      "cell_type": "code",
      "source": [
        "diasal = float(input('Por quantos dias o carro foi alugado?'))\n",
        "km = float(input('Quantos km o carro alugado percorreu?'))\n",
        "pagamento = (diasal * 60) + (km * 0.15)\n",
        "print(' Alugamos um carro por {:.2f} dias e percorremos {:.2f} Km, e o valor total pago foi de R$ {:.2f}'.format(diasal, km, pagamento))"
      ],
      "metadata": {
        "colab": {
          "base_uri": "https://localhost:8080/"
        },
        "id": "VKYF5KlmSVvf",
        "outputId": "62f38bd0-a37b-4420-fb05-0f795a04f83e"
      },
      "execution_count": null,
      "outputs": [
        {
          "output_type": "stream",
          "name": "stdout",
          "text": [
            "Por quantos dias o carro foi alugado ?20\n",
            "Quantos km o carro alugado percorreu ?20\n",
            " Alugamos um carro por 20.00 dias e percorremos 20.00 Km, e o valor total pago foi de R$ 1203.00\n"
          ]
        }
      ]
    },
    {
      "cell_type": "code",
      "source": [],
      "metadata": {
        "id": "KvKZWS2sUjlc"
      },
      "execution_count": null,
      "outputs": []
    },
    {
      "cell_type": "markdown",
      "source": [
        "# Aula 8 – Utilizando Módulos"
      ],
      "metadata": {
        "id": "G3aRGjb7WDsj"
      }
    },
    {
      "cell_type": "markdown",
      "source": [
        "##### comando utilizado para importar  é o import ou from import\n",
        "#### import é mais generalista e from impote vai importar o que eu escolher\n",
        "\n",
        "01 - Biblioteca math é uma que ja vem com python e é padrão e significa matematica e vai trazer algumas funcionalidades matematicas extras.\n",
        "\n",
        "funções que podemos importar\n",
        "\n",
        "ceil: Arrendodamento para cima;\n",
        "floor: Arrendodamento para baixo;\n",
        "trunc: Vai truncar o número, ou seja eliminar da virgula para frente sem fazer errenadodamento nenhum\n",
        "Pow: Que é potencia que vai funcionar semelhante aos dois asteriscos\n",
        "sqrt; calcular a raiz quadrada\n",
        "factorial: calcula o fatorial\n",
        "\n",
        "sintaxe: import math : Importa todos as funções matematicas\n",
        "from math import ( aqui a função que queremos), chamse importação otimizada  e podemos importar mais de uma\n"
      ],
      "metadata": {
        "id": "mxEFcKXsAzXD"
      }
    },
    {
      "cell_type": "markdown",
      "source": [
        "Momento Prático da nossa Aula 8 – Utilizando Módulos"
      ],
      "metadata": {
        "id": "telQGzMR2EDe"
      }
    },
    {
      "cell_type": "code",
      "source": [
        "import math # aqui eu estou importando todas as funções math logo eu preciso coloca a estrutura math.sqrt(num) que é função que eu quero\n",
        "num = int(input('digite um numero: '))\n",
        "raiz = math.sqrt(num)  # colocando a função que eu quero\n",
        "print(' A raiz quadrade de {} é igual a {:.2f}'.format(num, raiz))"
      ],
      "metadata": {
        "id": "GXcIszKLWFOr",
        "colab": {
          "base_uri": "https://localhost:8080/"
        },
        "outputId": "b2466f54-0edf-49dc-9586-e3ec5d973476"
      },
      "execution_count": null,
      "outputs": [
        {
          "output_type": "stream",
          "name": "stdout",
          "text": [
            "digite um numero: 25\n",
            " A raiz quadrade de 25 é igual a 5.00\n"
          ]
        }
      ]
    },
    {
      "cell_type": "code",
      "source": [
        "from math import sqrt  # aqui estou importando a funções que eu quero, logo não preciso colocar math.sqrt(num)\n",
        "num = int(input('digite um numero: '))\n",
        "raiz = sqrt(num)\n",
        "print(' A raiz quadrade de {} é igual a {:.2f}'.format(num, raiz))"
      ],
      "metadata": {
        "colab": {
          "base_uri": "https://localhost:8080/"
        },
        "id": "xGVRYkxi4Qvf",
        "outputId": "9727c8b1-a263-4e8a-b2f6-be79ff69e9ab"
      },
      "execution_count": null,
      "outputs": [
        {
          "output_type": "stream",
          "name": "stdout",
          "text": [
            "digite um numero: 25\n",
            " A raiz quadrade de 25 é igual a 5.00\n"
          ]
        }
      ]
    },
    {
      "cell_type": "code",
      "source": [
        "from math import sqrt, floor\n",
        "num = int(input('digite um numero: '))\n",
        "raiz = sqrt(num)\n",
        "print(' A raiz quadrade de {} é igual a {:.2f}'.format(num, floor(raiz)))"
      ],
      "metadata": {
        "colab": {
          "base_uri": "https://localhost:8080/"
        },
        "id": "LDFkKXCN8tUe",
        "outputId": "2db4da43-dc62-484b-a654-b5e48784f3f6"
      },
      "execution_count": null,
      "outputs": [
        {
          "output_type": "stream",
          "name": "stdout",
          "text": [
            "digite um numero: 25\n",
            " A raiz quadrade de 25 é igual a 5.00\n"
          ]
        }
      ]
    },
    {
      "cell_type": "markdown",
      "source": [
        "### Exercício Python 016: Crie um programa que leia um número Real qualquer pelo teclado e mostre na tela a sua porção Inteira."
      ],
      "metadata": {
        "id": "N0OgO5hpCbaQ"
      }
    },
    {
      "cell_type": "code",
      "source": [
        "from math import trunc                            # modo 01\n",
        "num = float(input('Digite um numero:'))\n",
        "inteiro = trunc(num)\n",
        "print('O numero digitado é {} e sua parte inteira é {}'.format(num, inteiro))"
      ],
      "metadata": {
        "colab": {
          "base_uri": "https://localhost:8080/"
        },
        "id": "a0Sa7TvX9oj1",
        "outputId": "04577019-9824-4686-e7bd-687cff90aa00"
      },
      "execution_count": null,
      "outputs": [
        {
          "output_type": "stream",
          "name": "stdout",
          "text": [
            "Digite um numero:6.127\n",
            "O numero digitado é 6.127 e sua parte inteira é 6\n"
          ]
        }
      ]
    },
    {
      "cell_type": "code",
      "source": [
        "import math               # Modo 02\n",
        "num = float(input('Digite um numero:'))\n",
        "inteiro = math.trunc(num)\n",
        "print('O numero digitado é {} e sua parte inteira é {}'.format(num, inteiro))\n"
      ],
      "metadata": {
        "colab": {
          "base_uri": "https://localhost:8080/"
        },
        "id": "96LpIu4SFEFC",
        "outputId": "37480626-48df-4b13-e04a-64f77b369754"
      },
      "execution_count": null,
      "outputs": [
        {
          "output_type": "stream",
          "name": "stdout",
          "text": [
            "Digite um numero:6.534\n",
            "O numero digitado é 6.534 e sua parte inteira é 6\n"
          ]
        }
      ]
    },
    {
      "cell_type": "code",
      "source": [
        "import math               # modo 03\n",
        "num = float(input('Digite um numero:'))\n",
        "print('O numero digitado é {} e sua parte inteira é {}'.format(num, trunc(num)))"
      ],
      "metadata": {
        "colab": {
          "base_uri": "https://localhost:8080/"
        },
        "id": "GXppAkiKFyTx",
        "outputId": "0ce501e7-e46e-4cca-aa02-94fb5908619e"
      },
      "execution_count": null,
      "outputs": [
        {
          "output_type": "stream",
          "name": "stdout",
          "text": [
            "Digite um numero:1.245\n",
            "O numero digitado é 1.245 e sua parte inteira é 1\n"
          ]
        }
      ]
    },
    {
      "cell_type": "code",
      "source": [
        "       # modo 04\n",
        "num = float(input('Digite um numero:'))\n",
        "print('O numero digitado é {} e sua parte inteira é {}'.format(num, int(num)))"
      ],
      "metadata": {
        "colab": {
          "base_uri": "https://localhost:8080/"
        },
        "id": "4ITUGLp3GfHX",
        "outputId": "6ba13735-33e3-4196-cc27-83cd5ec83bc0"
      },
      "execution_count": null,
      "outputs": [
        {
          "output_type": "stream",
          "name": "stdout",
          "text": [
            "Digite um numero:1.254\n",
            "O numero digitado é 1.254 e sua parte inteira é 1\n"
          ]
        }
      ]
    },
    {
      "cell_type": "markdown",
      "source": [
        "Exercício Python 017: Faça um programa que leia o comprimento do cateto oposto e do cateto adjacente de um triângulo retângulo. Calcule e mostre o comprimento da hipotenusa."
      ],
      "metadata": {
        "id": "Z0cogicem0XF"
      }
    },
    {
      "cell_type": "code",
      "source": [
        "from math import hypot # modo 01\n",
        "co = float(input('digite o valor do cateto oposto:'))\n",
        "ca = float(input('digite o valor do cateto adjacente:'))\n",
        "hipot = hypot(co, ca)\n",
        "print('O valor da hipostenusa é {:.2f}'.format(hipot))"
      ],
      "metadata": {
        "colab": {
          "base_uri": "https://localhost:8080/"
        },
        "id": "HsJAN9rvHHi6",
        "outputId": "15666384-c4f8-4785-803c-bce44216aa91"
      },
      "execution_count": null,
      "outputs": [
        {
          "output_type": "stream",
          "name": "stdout",
          "text": [
            "digite o valor do cateto oposto:8\n",
            "digite o valor do cateto adjacente:3\n",
            " O valor da hipostenusa é 8.54\n"
          ]
        }
      ]
    },
    {
      "cell_type": "markdown",
      "source": [],
      "metadata": {
        "id": "NVLmeyv7rv3r"
      }
    },
    {
      "cell_type": "code",
      "source": [
        "import math  # modulo 02\n",
        "co = float(input('digite o valor do cateto oposto:'))\n",
        "ca = float(input('digite o valor do cateto adjacente:'))\n",
        "hipot = math.hypot(co, ca)\n",
        "print('O valor da hipostenusa é {:.2f}'.format(hipot))"
      ],
      "metadata": {
        "colab": {
          "base_uri": "https://localhost:8080/"
        },
        "id": "KxzNtL40rQcq",
        "outputId": "d09ea816-e557-4780-cda0-c9b3686f49c7"
      },
      "execution_count": null,
      "outputs": [
        {
          "output_type": "stream",
          "name": "stdout",
          "text": [
            "digite o valor do cateto oposto:8\n",
            "digite o valor do cateto adjacente:3\n",
            "O valor da hipostenusa é 8.54\n"
          ]
        }
      ]
    },
    {
      "cell_type": "markdown",
      "source": [
        "Exercício Python 018: Faça um programa que leia um ângulo qualquer e mostre na tela o valor do seno, cosseno e tangente desse ângulo."
      ],
      "metadata": {
        "id": "BEB2T6LLtKxR"
      }
    },
    {
      "cell_type": "code",
      "source": [
        "# modelo 01\n",
        "from math import sin, cos, tan\n",
        "Angulo = float(input(' Digite o valor do angulo:'))\n",
        "valorse = sin(math.radians(Angulo))\n",
        "valorcos = cos(math.radians(Angulo))\n",
        "valortan = tan(math.radians(Angulo))\n",
        "print(' O valor do seno é {:.2f}, o do coseno é {:.2f} e tangente {:.2f}'.format(valorse, valorcos, valortan))"
      ],
      "metadata": {
        "colab": {
          "base_uri": "https://localhost:8080/"
        },
        "id": "ljkMbV3FtLuP",
        "outputId": "06a59af5-c7b9-4643-fe6d-68b1e301adc8"
      },
      "execution_count": null,
      "outputs": [
        {
          "output_type": "stream",
          "name": "stdout",
          "text": [
            " Digite o valor do angulo:30\n",
            " O valor do seno é 0.50, o do coseno é 0.87 e tangente 0.58\n"
          ]
        }
      ]
    },
    {
      "cell_type": "code",
      "source": [
        "from math import radians, sin, cos, tan  # modelo 2\n",
        "Angulo = float(input(' Digite o valor do angulo:'))\n",
        "valorse = sin(radians(Angulo))\n",
        "valorcos = cos(radians(Angulo))\n",
        "valortan = tan(radians(Angulo))\n",
        "print(' O valor do seno é {:.2f}, o do coseno é {:.2f} e tangente {:.2f}'.format(valorse, valorcos, valortan))"
      ],
      "metadata": {
        "colab": {
          "base_uri": "https://localhost:8080/"
        },
        "id": "PRxYu2KvybbV",
        "outputId": "8d72aff7-62c6-4d8b-ca9a-f6c9ff94bef8"
      },
      "execution_count": null,
      "outputs": [
        {
          "output_type": "stream",
          "name": "stdout",
          "text": [
            " Digite o valor do angulo:30\n",
            " O valor do seno é 0.50, o do coseno é 0.87 e tangente 0.58\n"
          ]
        }
      ]
    },
    {
      "cell_type": "code",
      "source": [
        "import math # modelo 3\n",
        "Angulo = float(input(' Digite o valor do angulo:'))\n",
        "valorse = math.sin(radians(Angulo))\n",
        "valorcos = math.cos(radians(Angulo))\n",
        "valortan = math.tan(radians(Angulo))\n",
        "print(' O valor do seno é {:.2f}, o do coseno é {:.2f} e tangente {:.2f}'.format(valorse, valorcos, valortan))"
      ],
      "metadata": {
        "colab": {
          "base_uri": "https://localhost:8080/"
        },
        "id": "RcZetpjz2hlD",
        "outputId": "6454da36-cfba-4db6-806d-5241b71c4ac1"
      },
      "execution_count": null,
      "outputs": [
        {
          "output_type": "stream",
          "name": "stdout",
          "text": [
            " Digite o valor do angulo:30\n",
            " O valor do seno é 0.50, o do coseno é 0.87 e tangente 0.58\n"
          ]
        }
      ]
    },
    {
      "cell_type": "markdown",
      "source": [
        "Exercício Python 019: Um professor quer sortear um dos seus quatro alunos para apagar o quadro. Faça um programa que ajude ele, lendo o nome dos alunos e escrevendo na tela o nome do escolhido."
      ],
      "metadata": {
        "id": "QHPpfKNw3KHd"
      }
    },
    {
      "cell_type": "code",
      "source": [
        "#  utilizado para definir ou escolher UM  número ou string aleatorio em uma lista.\n",
        "# Em um sorteito que foi escolhido\n",
        "\n",
        "from random import choice\n",
        "al1 = str(input('Digite o nome do primeiro aluno:'))\n",
        "al2 = str(input('Digite o nome do segundo aluno:'))\n",
        "al3 = str(input('Digite o nome do terceiro aluno:'))\n",
        "al4 = str(input('Digite o nome do quarto aluno:'))\n",
        "lista = [al1, al2, al3, al4]\n",
        "escolhido = choice(lista)\n",
        "print('O aluno ou Aluna escolhido(a) foi {}'.format(escolhido))"
      ],
      "metadata": {
        "colab": {
          "base_uri": "https://localhost:8080/"
        },
        "id": "QuyEAuFO28mQ",
        "outputId": "13d56386-b65c-4f10-e68a-17c119450213"
      },
      "execution_count": null,
      "outputs": [
        {
          "output_type": "stream",
          "name": "stdout",
          "text": [
            "Digite o nome do primeiro aluno:Gabriel \n",
            "Digite o nome do segundo aluno:Samara \n",
            "Digite o nome do terceiro aluno:isabele\n",
            "Digite o nome do quarto aluno:Isamim \n",
            "O aluno ou Aluna escolhido(a) foi Isamim \n"
          ]
        }
      ]
    },
    {
      "cell_type": "markdown",
      "source": [],
      "metadata": {
        "id": "M-rvKFLn1Oay"
      }
    },
    {
      "cell_type": "markdown",
      "source": [
        "Exercício Python 020: O mesmo professor do desafio 019 quer sortear a ordem de apresentação de trabalhos dos alunos. Faça um programa que leia o nome dos quatro alunos e mostre a ordem sorteada."
      ],
      "metadata": {
        "id": "4dD9wdYrJso0"
      }
    },
    {
      "cell_type": "code",
      "source": [
        " ## RANDOM SHUFFLE utilizado para definir ou escolher a ordem de números ou strings aleatorio em uma lista\n",
        "## Exemplo em um sorteito quem será o primeiro, segundo, terceiro\n",
        "\n",
        "from random import shuffle\n",
        "al1 = str(input('Digite o nome do primeiro aluno:'))\n",
        "al2 = str(input('Digite o nome do segundo aluno:'))\n",
        "al3 = str(input('Digite o nome do terceiro aluno:'))\n",
        "al4 = str(input('Digite o nome do quarto aluno:'))\n",
        "lista = [al1, al2, al3, al4]\n",
        "shuffle(lista)\n",
        "print('A ordem da lista sera')\n",
        "print(lista)"
      ],
      "metadata": {
        "colab": {
          "base_uri": "https://localhost:8080/"
        },
        "id": "bPVvNnpoxbI7",
        "outputId": "c31cc7de-63e4-4e1b-f77a-28884bad0749"
      },
      "execution_count": null,
      "outputs": [
        {
          "output_type": "stream",
          "name": "stdout",
          "text": [
            "Digite o nome do primeiro aluno:Carlos\n",
            "Digite o nome do segundo aluno:Fagner\n",
            "Digite o nome do terceiro aluno:Itamar\n",
            "Digite o nome do quarto aluno:Irajar\n",
            "A ordem da lista sera\n",
            "['Irajar', 'Itamar', 'Carlos', 'Fagner']\n"
          ]
        }
      ]
    },
    {
      "cell_type": "markdown",
      "source": [
        "Exercício Python 021: Faça um programa em Python que abra e reproduza o áudio de um arquivo MP3.\n",
        "\n"
      ],
      "metadata": {
        "id": "SdQU79QoJ1lZ"
      }
    },
    {
      "cell_type": "code",
      "source": [
        "## executar depois"
      ],
      "metadata": {
        "id": "2SODt9U0z1ND"
      },
      "execution_count": null,
      "outputs": []
    },
    {
      "cell_type": "markdown",
      "source": [
        "Exercício Python 022: Crie um programa que leia o nome completo de uma pessoa e mostre:\n",
        "- O nome com todas as letras maiúsculas e minúsculas.\n",
        "- Quantas letras ao todo (sem considerar espaços).\n",
        "- Quantas letras tem o primeiro nome.\n"
      ],
      "metadata": {
        "id": "s0Hz2SYl5iYU"
      }
    },
    {
      "cell_type": "code",
      "source": [
        "nome = str(input(\"Digite seu nome completo:\")).strip()   # strip vai eliminar os espaços antes e depois de cada letra\n",
        "print('Analisando seu nome ....')\n",
        "print('seu nome é {}'.format(nome.upper()))\n",
        "print('seu nome é {}'.format(nome.lower()))\n",
        "print('seu nome tem o total de {} letras '.format(len(nome) - nome.count(' ')))  # - nome.count(' ') - elimina os espaços entre letras\n",
        "print('seu primeiro nome tem {}'.format(nome.find(' ')))             # nome.find(' ') - vai contar a quantidade de letra do rimeiro nome"
      ],
      "metadata": {
        "colab": {
          "base_uri": "https://localhost:8080/"
        },
        "id": "vWTPN1Ok5i_M",
        "outputId": "1fbecfff-7ac8-4a06-de45-7d5480c72147"
      },
      "execution_count": null,
      "outputs": [
        {
          "output_type": "stream",
          "name": "stdout",
          "text": [
            "Digite seu nome completo:Ana Maria\n",
            "Analisando seu nome ....\n",
            "seu nome é ANA MARIA\n",
            "seu nome é ana maria\n",
            "seu nome tem o total de 8 letras \n",
            "seu primeiro nome tem 3\n"
          ]
        }
      ]
    },
    {
      "cell_type": "markdown",
      "source": [
        "Exercício Python 023: Faça um programa que leia um número de 0 a 9999 e mostre na tela cada um dos dígitos separados."
      ],
      "metadata": {
        "id": "ufEpgBZ31PwY"
      }
    },
    {
      "cell_type": "code",
      "source": [
        "\n",
        "num = int(input('Digite um numero:'))\n",
        "u = num // 1 %10\n",
        "d = num // 10 %10\n",
        "c = num // 100 %10\n",
        "m = num// 1000 %10\n",
        "print('Analisando o numero {}'.format(num))\n",
        "print('Unidade: {}'.format(u))\n",
        "print('Dezena: {}'.format(d))\n",
        "print('Centena: {}'.format(c))\n",
        "print('Milhar: {}'.format(m))\n"
      ],
      "metadata": {
        "colab": {
          "base_uri": "https://localhost:8080/"
        },
        "id": "FjazyO5-DK7F",
        "outputId": "4e2704d0-240a-45f9-eced-e314237f2ac7"
      },
      "execution_count": null,
      "outputs": [
        {
          "output_type": "stream",
          "name": "stdout",
          "text": [
            "Digite um numero:12\n",
            "Analisando o numero 12\n",
            "Unidade: 2\n",
            "Dezena: 1\n",
            "Centena: 0\n",
            "Milhar: 0\n"
          ]
        }
      ]
    },
    {
      "cell_type": "markdown",
      "source": [
        "Exercício Python 024: Crie um programa que leia o nome de uma cidade diga se ela começa ou não com o nome \"SANTO\"."
      ],
      "metadata": {
        "id": "fv8-6aIw77IG"
      }
    },
    {
      "cell_type": "code",
      "source": [
        "cidade = str(input('Digite o mome da cidade?')).strip()\n",
        "print('Analisando o nome da cidade {} ele começa como a palavra Santo?'.format(cidade))\n",
        "print(cidade[:5].upper() == 'SANTO')  # [:5] usa- se para procurar na string as cinco letras que a plavra santo tem"
      ],
      "metadata": {
        "colab": {
          "base_uri": "https://localhost:8080/"
        },
        "id": "ROeoQmwH4Js2",
        "outputId": "8c85f039-14a5-4af6-c535-d9de441468db"
      },
      "execution_count": null,
      "outputs": [
        {
          "output_type": "stream",
          "name": "stdout",
          "text": [
            "Digite o mome da cidade ?Feira de Santana\n",
            "Analisando o nome da cidade Feira de Santana ele começa como a palavra Santo?\n",
            "False\n"
          ]
        }
      ]
    },
    {
      "cell_type": "markdown",
      "source": [
        "Exercício Python 025: Crie um programa que leia o nome de uma pessoa e diga se ela tem \"SILVA\" no nome."
      ],
      "metadata": {
        "id": "ByFeEa_X-tEO"
      }
    },
    {
      "cell_type": "code",
      "source": [
        "nome = str(input('Digite o nome da pessoa?')).strip()\n",
        "print('Analisando o nome digitado')\n",
        "print('o nome tem silva?{}'.format('silva'in nome.lower()))  # in - verifica se temos uma string dentro de um conjunto de string\n",
        "  # strip () Elimina o o espeloentre palavaras\n",
        "  # lower () ou upper() para ficar idendiferente ao que o cliente vai digitar maisculo ou minusculo tem que colocar esse dois\n",
        "  # mas nao esquecer de colocar o nome de acordo com a função que for usar, se usar o nome minusculo tem que usar o lower e maisculo o uperr\n",
        "  # veja o exemplo\n"
      ],
      "metadata": {
        "colab": {
          "base_uri": "https://localhost:8080/"
        },
        "id": "VJ8kvV5y-EAn",
        "outputId": "9c4e7840-14c0-4246-d20f-47634085075a"
      },
      "execution_count": null,
      "outputs": [
        {
          "output_type": "stream",
          "name": "stdout",
          "text": [
            "Digite o nome da pessoa?Silva Sauro\n",
            "Analisando o nome digitado\n",
            "o nome tem silva?True\n"
          ]
        }
      ]
    },
    {
      "cell_type": "markdown",
      "source": [
        "Exercício Python 026: Faça um programa que leia uma frase pelo teclado e mostre quantas vezes aparece a letra \"A\", em que posição ela aparece a primeira vez e em que posição ela aparece a última vez."
      ],
      "metadata": {
        "id": "ahchBGwdGcL1"
      }
    },
    {
      "cell_type": "code",
      "source": [
        "frase = str(input('Digite uma frase:')).strip().upper()\n",
        "\n",
        "print('A Letra A aparace na frase {} vezes'.format(frase.count('A')))\n",
        "print('A Primeira letra A aparace na posição {}'.format(frase.find('A')+1))\n",
        "print('A Ultima letra A aparace na posição {}'.format(frase.rfind('A')+1))\n",
        "\n",
        "# p1 - posição que ele aperece a primeira vez\n",
        "# pu - posição que ela aparace pela ultima vez"
      ],
      "metadata": {
        "colab": {
          "base_uri": "https://localhost:8080/"
        },
        "id": "8EzkQijtAN5D",
        "outputId": "620832c6-773e-420c-a51d-30ddad208f1d"
      },
      "execution_count": null,
      "outputs": [
        {
          "output_type": "stream",
          "name": "stdout",
          "text": [
            "Digite uma frase:A\n",
            "A Letra A aparace na frase 1 vezes\n",
            "A Primeira letra A aparace na posição 1\n",
            "A Ultima letra A aparace na posição 1\n"
          ]
        }
      ]
    },
    {
      "cell_type": "markdown",
      "source": [
        "Exercício Python 027: Faça um programa que leia o nome completo de uma pessoa, mostrando em seguida o primeiro e o último nome separadamente."
      ],
      "metadata": {
        "id": "zzsSHbYi3M92"
      }
    },
    {
      "cell_type": "code",
      "source": [
        "n = str(input('Digite o nome completo da pessoa:')).strip()\n",
        "nome = n.split()\n",
        "print('Meu primeiro nome é {}'.format(nome[0]))\n",
        "print('Meu segundo nome é {}'.format(nome[len(nome)-1]))\n",
        "\n",
        "# foi colocado o len para contar a quantidade de nomes\n",
        "# foi colocado -1 pois lean vai contar de acordo com a identação do python que começa em zero\n",
        "# mas para adquar a realidade contagem de acordo com python menos 1"
      ],
      "metadata": {
        "colab": {
          "base_uri": "https://localhost:8080/"
        },
        "id": "YTciUMYj3N0f",
        "outputId": "7882e300-59b0-4e43-ddac-ab143b8cd373"
      },
      "execution_count": null,
      "outputs": [
        {
          "output_type": "stream",
          "name": "stdout",
          "text": [
            "Digite o nome completo da pessoa:Marcus lopes\n",
            "Meu primeiro nome é Marcus\n",
            "Meu segundo nome é lopes\n"
          ]
        }
      ]
    },
    {
      "cell_type": "markdown",
      "source": [
        "### Aula 10 - Nessa aula, vamos aprender como utilizar estruturas condicionais simples e compostas nos seus programas em Python.\n",
        "\n",
        "Veja como aplicar os comandos if: e else: no Python.\n",
        "\n",
        "\n",
        "obsservação: Todo metodo tem parentese no final ()\n",
        "estrtutura sequencial : todos o exercios que fizemos anteriormente os 27 foram sequenciais, pois executaram todos os comandos em uma sequência de cima para baixo e da esquerda para direita\n",
        "\n",
        "Em condicionais simples e compostas não não seguiremos mais uma sequencia, nos teremos devsios, ou seja tenho possibilidades dentro do meu programa de acordo com a decisão de uma pessoa. Eu estou criando possibilidade, eu estou criando condições.\n",
        "\n",
        "Temos que colocar essa decisões ou tomadas de decisões em estrutura ou indentação que dividiremos em blocos.\n",
        "\n",
        "\n",
        "- sintaxe:\n",
        "\n",
        " -if condiação verdadeira:\n",
        " - bloco de comando verdadeiro (true)\n",
        "- else condição falsa:\n",
        " - bloco de comando falso\n",
        "\n",
        "Ou executamos o bloco verdadeiro ou o bloco falso, nunca as duas ao mesmo tempo.\n",
        "\n",
        "Obs todo comando que estiver alinhado ao lado esquerdo ele será executado sempre e todo o comando que estiver identado ele pode ser executado ou não, dependendo da condiação.\n",
        "\n",
        "Condiação simplificada: Podemos simplificar uma condiação dentro do python com uma linha só, ou seja escrevendo tudo dentro de uma linha so\n"
      ],
      "metadata": {
        "id": "hlr3S8Z3-oW_"
      }
    },
    {
      "cell_type": "code",
      "source": [
        "# exemplo 01\n",
        "\n",
        "nome = str(input('Qual o seu nome?'))\n",
        "if nome == 'Gustavo':\n",
        "  print('Que nome lindo você tem!')\n",
        "else:\n",
        "  print('Seu nome é tão normal!')\n",
        "print('Bom dia, {}!'.format(nome))"
      ],
      "metadata": {
        "colab": {
          "base_uri": "https://localhost:8080/"
        },
        "id": "zjr054z55EHo",
        "outputId": "9be88391-18a2-4566-c319-9eb34b301ee4"
      },
      "execution_count": null,
      "outputs": [
        {
          "output_type": "stream",
          "name": "stdout",
          "text": [
            "Qual o seu nome ?Marcus\n",
            "Seu nome é tão normal!\n",
            "Bom dia, Marcus!\n"
          ]
        }
      ]
    },
    {
      "cell_type": "code",
      "source": [
        "# exemlo 02 aprovado em materia\n",
        "n1 = float(input('Digite a primeira nota:'))\n",
        "n2 = float(input('Digite a segunda nota:'))\n",
        "n3 = float(input('Digite a terceira nota:'))\n",
        "n4 = float(input('Digite a quarta nota:'))\n",
        "med = (n1 + n2 + n3 + n4)/4\n",
        "print('A média na matéria em Matematica foi de {:.2f}'.format(med))\n",
        "if med >=6:\n",
        "  print('O aluno foi aprovado na materia !')\n",
        "else:\n",
        "  print('O aluno foi reprovado na materia!')\n"
      ],
      "metadata": {
        "colab": {
          "base_uri": "https://localhost:8080/"
        },
        "id": "CQPjty89L4BK",
        "outputId": "ae1436c6-b3ce-463f-e01d-13b37c9aed0a"
      },
      "execution_count": null,
      "outputs": [
        {
          "output_type": "stream",
          "name": "stdout",
          "text": [
            "Digite a primeira nota:9.1\n",
            "Digite a segunda nota:8.1\n",
            "Digite a terceira nota:7.5\n",
            "Digite a quarta nota:8\n",
            "A média na matéria em Matematica foi de 8.18\n",
            "O aluno foi aprovado na materia !\n"
          ]
        }
      ]
    },
    {
      "cell_type": "markdown",
      "source": [
        "Exercício Python 028: Escreva um programa que faça o computador \"pensar\" em um número inteiro entre 0 e 5 e peça para o usuário tentar descobrir qual foi o número escolhido pelo computador. O programa deverá escrever na tela se o usuário venceu ou perdeu."
      ],
      "metadata": {
        "id": "tOH9-snQQqr8"
      }
    },
    {
      "cell_type": "code",
      "source": [
        "from random import randint\n",
        "from time import sleep\n",
        "numpc = randint(0, 5)\n",
        "print('=' * 20)\n",
        "print('Eu computador, vou pensar em um número entre 0 e 5, tente advinhar')\n",
        "print('='* 20)\n",
        "Jogador = int(input('Digite o numero queo computador pensou'))\n",
        "print('Processando...')\n",
        "sleep(2)\n",
        "if Jogador == numpc:\n",
        "  print('Parabens você acertou o número e consegiu me vencer')\n",
        "else:\n",
        "  print('Você não acertou o número que o computador pensou, portando perdeu')\n"
      ],
      "metadata": {
        "colab": {
          "base_uri": "https://localhost:8080/"
        },
        "id": "rUXH30F6PHLa",
        "outputId": "2f2b91c6-97dd-4534-bdcd-2af9a5ef7dd8"
      },
      "execution_count": null,
      "outputs": [
        {
          "output_type": "stream",
          "name": "stdout",
          "text": [
            "====================\n",
            "Eu computador, vou pensar em um número entre 0 e 5, tente advinhar\n",
            "====================\n",
            "Digite o numero queo computador pensou10\n",
            "Processando...\n",
            "Você não acertou o número que o computador pensou, portando perdeu\n"
          ]
        }
      ]
    },
    {
      "cell_type": "markdown",
      "source": [
        "Exercício Python 029: Escreva um programa que leia a velocidade de um carro. Se ele ultrapassar 80Km/h, mostre uma mensagem dizendo que ele foi multado. A multa vai custar R$7,00 por cada Km acima do limite."
      ],
      "metadata": {
        "id": "rpPwtmfmt8c9"
      }
    },
    {
      "cell_type": "code",
      "source": [
        "from time import sleep\n",
        "veloc = float(input('Qual a velocidade em Km/h do carro o radar detectou? '))\n",
        "print('Processando .....')\n",
        "sleep(1)\n",
        "if veloc > 80:\n",
        "  print('o carro tem que ser multado por execesso de velocidade')\n",
        "  multa = (veloc - 80) * 7\n",
        "  print('O valor da multa será de R$ {}'.format(multa))\n",
        "print('Tenha um bom dia e digija com muito cuidado')"
      ],
      "metadata": {
        "colab": {
          "base_uri": "https://localhost:8080/"
        },
        "id": "oh2zfBo8Qr5W",
        "outputId": "6eb9de53-15b2-48a7-d23d-23279f5d6aea"
      },
      "execution_count": null,
      "outputs": [
        {
          "output_type": "stream",
          "name": "stdout",
          "text": [
            "Qual a velocidade em Km/h do carro o radar detectou? 100\n",
            "Processando .....\n",
            "o carro tem que ser multado por execesso de velocidade\n",
            "O valor da multa será de R$ 140.0\n",
            "Tenha um bom dia e digija com muito cuidado\n"
          ]
        }
      ]
    },
    {
      "cell_type": "code",
      "source": [
        "from time import sleep\n",
        "nome = str(input('digite o nome completo da pessoa: ')).upper()\n",
        "print('processando o nome')\n",
        "sleep(1)\n",
        "if nome =='MARCUS VINICIUS DE SOUZA LOPES':\n",
        "  print('Data de nascimento 28/02/21977')\n",
        "  print('46 anos')\n",
        "  print('Casado com Flávia Palha Lopes')\n",
        "  print('Pai de Maria Luisa Palha Lopes')\n",
        "  print('Residente em Feira de Santana/Bahia')\n",
        "else:\n",
        "  print('Infelizmente não temos o seus dados')\n",
        "\n"
      ],
      "metadata": {
        "colab": {
          "base_uri": "https://localhost:8080/"
        },
        "id": "eyWUTyi-vO9L",
        "outputId": "23f5e8ba-c260-405b-9a0a-757a9674f7ad"
      },
      "execution_count": null,
      "outputs": [
        {
          "output_type": "stream",
          "name": "stdout",
          "text": [
            "digite o nome completo da pessoa: Marcus vinicius de souza lopes\n",
            "processando o nome\n",
            "Data de nascimento 28/02/21977\n",
            "46 anos\n",
            "Casado com Flávia Palha Lopes\n",
            "Pai de Maria Luisa Palha Lopes\n",
            "Residente em Feira de Santana/Bahia\n"
          ]
        }
      ]
    },
    {
      "cell_type": "markdown",
      "source": [
        "Exercício Python 030: Crie um programa que leia um número inteiro e mostre na tela se ele é PAR ou ÍMPAR."
      ],
      "metadata": {
        "id": "gf5LT8KT6jPD"
      }
    },
    {
      "cell_type": "code",
      "source": [
        "num = int(input('Digite um número:'))\n",
        "resultado = num % 2\n",
        "if resultado == 0:\n",
        "  print('O número {} é PAR !'.format(num))\n",
        "else:\n",
        "  print('O número {} é IMPAR !'.format(num))"
      ],
      "metadata": {
        "id": "UsZCBDeHJomt",
        "colab": {
          "base_uri": "https://localhost:8080/"
        },
        "outputId": "6141cbd8-d163-4939-86e9-ca4ac738aba1"
      },
      "execution_count": null,
      "outputs": [
        {
          "output_type": "stream",
          "name": "stdout",
          "text": [
            "Digite um número:3\n",
            "O número 3 é IMPAR !\n"
          ]
        }
      ]
    },
    {
      "cell_type": "markdown",
      "source": [
        "Exercício Python 031: Desenvolva um programa que pergunte a distância de uma viagem em Km. Calcule o preço da passagem,\n",
        "\n",
        " - cobrando 0,50 por Km para viagens de até 200Km\n",
        " - 0,45 parta viagens mais longas."
      ],
      "metadata": {
        "id": "s4UkRCB--eTj"
      }
    },
    {
      "cell_type": "code",
      "source": [
        "distancia = float(input('Digite a distência da Viagem em KM:'))\n",
        "curta = distancia * 0.50\n",
        "longa = distancia * 0.45\n",
        "if distancia <= 200:\n",
        "  print('O preço da passagem será R${:.2f}'.format(curta))\n",
        "else:\n",
        "   print('O preço da passagem será R$ {:.2f}'.format(longa))"
      ],
      "metadata": {
        "colab": {
          "base_uri": "https://localhost:8080/"
        },
        "id": "h5805KNS8b_4",
        "outputId": "dc71a8a2-71c1-4160-b305-1d1db0e1011e"
      },
      "execution_count": null,
      "outputs": [
        {
          "output_type": "stream",
          "name": "stdout",
          "text": [
            "Digite a distência da Viagem em KM:1000\n",
            "O preço da passagem será R$ 450.00\n"
          ]
        }
      ]
    },
    {
      "cell_type": "markdown",
      "source": [
        "Exercício Python 032: Faça um programa que leia um ano qualquer e mostre se ele é bissexto."
      ],
      "metadata": {
        "id": "Dkm-QI80HPcR"
      }
    },
    {
      "cell_type": "code",
      "source": [
        "from datetime import date\n",
        "ano = int(input('Qual ano gostaria de analisar se é bissexto? coloque zero para aanalisar o ano atual'))\n",
        "if ano == 0:\n",
        "  ano = date.today().year\n",
        "if ano % 4 == 0 and ano % 100 !=0 or ano %400 ==0:\n",
        "  print('O ano {} é Bissexto'.format(ano))\n",
        "else:\n",
        "  print(' O ano {} não é Bissexto'.format(ano))"
      ],
      "metadata": {
        "colab": {
          "base_uri": "https://localhost:8080/"
        },
        "id": "YeWksSf3AeQu",
        "outputId": "0197b142-4e4b-4ce0-c968-16ed95eede01"
      },
      "execution_count": null,
      "outputs": [
        {
          "output_type": "stream",
          "name": "stdout",
          "text": [
            "Qual ano gostaria de analisar se é bissexto? coloque zero para aanalisar o ano atual0\n",
            " O ano 2023 não é Bissexto\n"
          ]
        }
      ]
    },
    {
      "cell_type": "markdown",
      "source": [
        "Exercício Python 033: Faça um programa que leia três números e mostre qual é o maior e qual é o menor.\n"
      ],
      "metadata": {
        "id": "CZckpyemQ6g3"
      }
    },
    {
      "cell_type": "code",
      "source": [
        "a = int(input('digite o primeiro número: '))\n",
        "b = int(input('digite o segundo número: '))\n",
        "c = int(input('digite o terceiro número: '))\n",
        "#calcuar a\n",
        "menor = a\n",
        "\n",
        "#calcular b\n",
        "if b<a and b<c:\n",
        "  menor = b\n",
        "\n",
        "#calcular c\n",
        "if c<a and c<b:\n",
        "  menor = c\n",
        "#calcular a\n",
        "maior = a\n",
        "\n",
        "#calcular b\n",
        "if b>a and b>c:\n",
        "  maior = b\n",
        "\n",
        "#calcuçar c\n",
        "if c > b and c>a:\n",
        "  maior = c\n",
        "print(' O menor valor foi {}'.format(menor))\n",
        "print(' O maior valor foi {}'.format(maior))\n",
        "\n"
      ],
      "metadata": {
        "colab": {
          "base_uri": "https://localhost:8080/"
        },
        "id": "LxXLnQJ2KS8c",
        "outputId": "c138d209-8056-48f1-e112-dcb6f770981a"
      },
      "execution_count": null,
      "outputs": [
        {
          "output_type": "stream",
          "name": "stdout",
          "text": [
            "digite o primeiro número: 3\n",
            "digite o segundo número: 10\n",
            "digite o terceiro número: 1\n",
            " O menor valor foi 1\n",
            " O maior valor foi 10\n"
          ]
        }
      ]
    },
    {
      "cell_type": "markdown",
      "source": [
        "Exercício Python 034: Escreva um programa que pergunte o salário de um funcionário e calcule o valor do seu aumento. Para salários superiores a R$1250,00, calcule um aumento de 10%. Para os inferiores ou iguais, o aumento é de 15%."
      ],
      "metadata": {
        "id": "eZWMkWAEsBNx"
      }
    },
    {
      "cell_type": "code",
      "source": [
        "sal = float(input('Digite o salário do colaborador R$:   '))\n",
        "aumento1 = (sal * 10/ 100)\n",
        "aumento2 = (sal * 15/ 100)\n",
        "if sal > 1250:\n",
        "  print('O salário é de R$ {:.2f}, o aumento será de R$ {:.2f}, o novo sálario a será de R$ {:.2f}'.format(sal, aumento1, (sal + aumento1)))\n",
        "\n",
        "else:\n",
        " print('O salário é de R$ {:.2f}, o aumento será de R$ {:.2f}, O novo salário será de {:.2f}'.format(sal, aumento2, (sal + aumento2)))"
      ],
      "metadata": {
        "colab": {
          "base_uri": "https://localhost:8080/"
        },
        "id": "7kVPnQNzsCGW",
        "outputId": "87876f4d-6b21-4a61-aba7-0381418665ad"
      },
      "execution_count": null,
      "outputs": [
        {
          "output_type": "stream",
          "name": "stdout",
          "text": [
            "Digite o salário do colaborador R$:   5000\n",
            "O salário é de R$ 5000.00, o aumento será de R$ 500.00, o novo sálario a será de R$ 5500.00\n"
          ]
        }
      ]
    },
    {
      "cell_type": "markdown",
      "source": [
        "Exercício Python 035: Desenvolva um programa que leia o comprimento de três retas e diga ao usuário se elas podem ou não formar um triângulo."
      ],
      "metadata": {
        "id": "Wl1d7RPI2WcC"
      }
    },
    {
      "cell_type": "code",
      "source": [
        "\n",
        "from time import sleep\n",
        "print('Analisando a formação de Triângulo')\n",
        "print('='*30)\n",
        "r1 = float(input('Digite o primeiro comprimento da reta: '))\n",
        "r2 = float(input('Digite o segundo comprimento da reta 2: '))\n",
        "r3 = float(input('Digite o terceiro comprimento da reta 3: '))\n",
        "print('='*30)\n",
        "sleep(1)\n",
        "print('Processando ,,,,,,,,,,')\n",
        "if r1 < r2+ r3 and r2 < r1 + r3 and r3 < r1+ r2:\n",
        "  print(' Os comprimentos acima formam um triângulo')\n",
        "else:\n",
        "  print(' Os comprimentos acima não formam um triângulo')"
      ],
      "metadata": {
        "colab": {
          "base_uri": "https://localhost:8080/"
        },
        "id": "E2fLZ14Fu3Jt",
        "outputId": "34df2cce-ac7a-4bfa-9a77-48630639b91d"
      },
      "execution_count": null,
      "outputs": [
        {
          "output_type": "stream",
          "name": "stdout",
          "text": [
            "Analisando a formação de Triângulo\n",
            "==============================\n",
            "Digite o primeiro comprimento da reta: 3\n",
            "Digite o segundo comprimento da reta 2: 1\n",
            "Digite o terceiro comprimento da reta 3: 2\n",
            "==============================\n",
            "Processando ,,,,,,,,,,\n",
            " Os comprimentos acima não formam um triângulo\n"
          ]
        }
      ]
    },
    {
      "cell_type": "markdown",
      "source": [
        "## Aula 12 - Condições Anainhadas"
      ],
      "metadata": {
        "id": "He9a4goafPAG"
      }
    },
    {
      "cell_type": "markdown",
      "source": [
        "Nessa aula, vamos aprender como criar estruturas condicionais aninhadas, usando os comandos if.. elif.. else em programas Python.\n",
        "\n",
        "\n",
        "Condições aninhadas e quando encaixamos uma coisa dentro da outra, nos podemos pegar estruturas conidções e colocar dentro de outras estrutiras a isso damos o nome de condições aninhadas\n",
        "\n",
        "\n",
        "sintaxe:\n",
        "\n",
        " -if condiação verdadeira:\n",
        " - bloco de comando verdadeiro (true)\n",
        "\n",
        "\n",
        " -elif (Quando já temos um IF e um ELSE, mas precisamos de uma condição para especificar outra regra, podemos usar o elif.)\n",
        " - bloco de comando para especificar outra regra, além do if e else\n",
        "\n",
        "\n",
        "-else condição falsa:\n",
        " - bloco de comando falso\n",
        "\n",
        " Ou executamos o bloco verdadeiro ou o bloco falso, nunca as duas ao mesmo tempo.\n",
        "\n",
        "Obs todo comando que estiver alinhado ao lado esquerdo ele será executado sempre e todo o comando que estiver identado ele pode ser executado ou não, dependendo da condiação.\n",
        "\n",
        "Condiação simplificada: Podemos simplificar uma condiação dentro do python com uma linha só, ou seja escrevendo tudo dentro de uma linha so.\n",
        "\n",
        "O elif, podems usar quantas vezes nés queremos\n",
        "\n",
        "O else é opcional"
      ],
      "metadata": {
        "id": "uDpTwY9FfYo7"
      }
    },
    {
      "cell_type": "code",
      "source": [
        "nome = str(input('Difite seu nome:')).lower()\n",
        "if nome == 'marcus':\n",
        "   print('O seu nome {} é muito bonito'.format(nome))\n",
        "elif nome =='maria' or nome == 'antonio' or nome == 'flávia':\n",
        "  print('O seu nome é muito comum no Brasil')\n",
        "else:\n",
        "  print('Seu nome é bem normal')\n",
        "print('tenha um bom dia')\n"
      ],
      "metadata": {
        "colab": {
          "base_uri": "https://localhost:8080/"
        },
        "id": "jcm8VIUEfWXX",
        "outputId": "8bfe8f34-c4ec-4df0-bab0-9033ccb384bb"
      },
      "execution_count": null,
      "outputs": [
        {
          "output_type": "stream",
          "name": "stdout",
          "text": [
            "Difite seu nome:carlos\n",
            "Seu nome é bem normal\n",
            "tenha um bom dia\n"
          ]
        }
      ]
    },
    {
      "cell_type": "markdown",
      "source": [
        "Exercício Python 036: Escreva um programa para aprovar o empréstimo bancário para a compra de uma casa. Pergunte o valor da casa, o salário do comprador e em quantos anos ele vai pagar. A prestação mensal não pode exceder 30% do salário ou então o empréstimo será negado."
      ],
      "metadata": {
        "id": "OQZuNjzTsqo_"
      }
    },
    {
      "cell_type": "code",
      "source": [
        "valor = float(input('Digite o valor da casa R$:'))\n",
        "salario = float(input('Digite o seu salario R$:'))\n",
        "anos =  float(input('Digite o tempo finaciamento para pagar:'))\n",
        "prestac = valor/ (anos *12)\n",
        "aprov = salario * 30/100\n",
        "print('Para commprar uma casa de R$ {:.2f} em {:.2f} anos'.format(valor, anos))\n",
        "if prestac <= aprov:\n",
        "  print('A prestação será de R$ {:.2f} e não execede o 30% do salário do solicitante,*COMPRA DE CASA REPROVADA*'.format(prestac))\n",
        "else:\n",
        "  print('A prestação será de R$ {:.2f} e execede 30% do salário do solcitante,*COMPRA DE CASA APROVADA*'.format(prestac))\n"
      ],
      "metadata": {
        "colab": {
          "base_uri": "https://localhost:8080/"
        },
        "id": "uLTZlSwrsqCt",
        "outputId": "a37b77ee-6701-4e42-8c9f-e4a352846794"
      },
      "execution_count": null,
      "outputs": [
        {
          "output_type": "stream",
          "name": "stdout",
          "text": [
            "Digite o valor da casa R$:200000\n",
            "Digite o seu salario R$:10000\n",
            "Digite o tempo em anos para pagar:20\n",
            "Para commprar uma casa de R$ 200000.00 em 20.00 anos\n",
            "A prestação será de R$ 833.33 e não execede o 30% do salário do solicitante,*COMPRA DE CASA REPROVADA*\n"
          ]
        }
      ]
    },
    {
      "cell_type": "markdown",
      "source": [
        "Exercício Python 037: Escreva um programa em Python que leia um número inteiro qualquer e peça para o usuário escolher qual será a base de conversão: 1 para binário, 2 para octal e 3 para hexadecimal."
      ],
      "metadata": {
        "id": "3YyR4aUQ5foO"
      }
    },
    {
      "cell_type": "code",
      "source": [],
      "metadata": {
        "id": "PuafMKem5gga"
      },
      "execution_count": null,
      "outputs": []
    },
    {
      "cell_type": "markdown",
      "source": [],
      "metadata": {
        "id": "N9WmJmw9899S"
      }
    },
    {
      "cell_type": "markdown",
      "source": [
        "Exercício Python 039: Faça um programa que leia o ano de nascimento de um jovem e informe, de acordo com a sua idade, se ele ainda vai se alistar ao serviço militar, se é a hora exata de se alistar ou se já passou do tempo do alistamento. Seu programa também deverá mostrar o tempo que falta ou que passou do prazo."
      ],
      "metadata": {
        "id": "6A9EIMoAn-8w"
      }
    },
    {
      "cell_type": "code",
      "source": [
        "from datetime import date\n",
        "ano_atual = date.today().year\n",
        "ano = int(input('Digite o ano de nascimento:'))\n",
        "idade = (ano_atual - ano)\n",
        "print('Quem Nasceu em {}, tem {} em {}'.format(ano, idade, ano_atual))\n",
        "if idade == 18:\n",
        "  print('Você tem que se alistar IMEDITAMENTE')\n",
        "elif idade < 18:\n",
        "  saldo = 18 - idade\n",
        "  anof = ano_atual + saldo\n",
        "  print('Você ainda não tem 18 anos falta (m) {} ano (s)'.format(saldo))\n",
        "  print('Seu alistamento será no ano de {}'.format(anof))\n",
        "elif idade > 18:\n",
        "  saldo = idade - 18\n",
        "  anop = ano_atual - saldo\n",
        "  print('E já deveria ter alistado a {} ano(s)'.format(saldo))\n",
        "  print('seu alistamento foi no ano de {}'.format(anop))"
      ],
      "metadata": {
        "colab": {
          "base_uri": "https://localhost:8080/"
        },
        "id": "vhVuXVCpn__b",
        "outputId": "af06ae17-3392-4c56-f481-869cb9e908ae"
      },
      "execution_count": null,
      "outputs": [
        {
          "output_type": "stream",
          "name": "stdout",
          "text": [
            "Digite o ano de nascimento:2020\n",
            "Quem Nasceu em 2020, tem 3 em 2023\n",
            "Você ainda não tem 18 anos falta (m) 15 ano (s)\n",
            "Seu alistamento será no ano de 2038\n"
          ]
        }
      ]
    },
    {
      "cell_type": "markdown",
      "source": [
        "Exercício Python 040: Crie um programa que leia duas notas de um aluno e calcule sua média, mostrando uma mensagem no final, de acordo com a média atingida:\n",
        "- Média abaixo de 5.0: REPROVADO\n",
        "- Média entre 5.0 e 6.9: RECUPERAÇÃO\n",
        "- Média 7.0 ou superior: APROVADO\n"
      ],
      "metadata": {
        "id": "zn3-QDRW832j"
      }
    },
    {
      "cell_type": "code",
      "source": [
        "n1 = float(input('Digite a primeira nota do aluno '))\n",
        "n2 = float(input('Digite a segunda nota do aluno '))\n",
        "mdnota = (n1+n2)/2\n",
        "print(' O Aluno teve nota 1 = {:.1f}, nota 2 = {:.1f}, MÉDIA = {:.1f}'.format(n1, n2, mdnota))\n",
        "if mdnota >=5 and mdnota < 7:\n",
        "  print('O aluno está em RECUPERAÇÃO')\n",
        "elif mdnota < 5:\n",
        "  print('O aluno está em REPROVADO')\n",
        "elif mdnota >=7 :\n",
        "  print('O aluno está em APROVADO')\n"
      ],
      "metadata": {
        "colab": {
          "base_uri": "https://localhost:8080/"
        },
        "id": "QKJYq9m587Dq",
        "outputId": "1769b408-556e-4a5f-95d6-322e2bfe3f3c"
      },
      "execution_count": null,
      "outputs": [
        {
          "output_type": "stream",
          "name": "stdout",
          "text": [
            "Digite a primeira nota do aluno 1\n",
            "Digite a segunda nota do aluno 4\n",
            " O Aluno teve nota 1 = 1.0, nota 2 = 4.0, MÉDIA = 2.5\n",
            "O aluno está em REPROVADO\n"
          ]
        }
      ]
    },
    {
      "cell_type": "markdown",
      "source": [
        "Exercício Python 041: A Confederação Nacional de Natação precisa de um programa que leia o ano de nascimento de um atleta e mostre sua categoria, de acordo com a idade:\n",
        "- Até 9 anos: MIRIM\n",
        "- Até 14 anos: INFANTIL\n",
        "- Até 19 anos: JÚNIOR\n",
        "- Até 25 anos: SÊNIOR\n",
        "- Acima de 25 anos: MASTER"
      ],
      "metadata": {
        "id": "OY82NQsF6BIt"
      }
    },
    {
      "cell_type": "code",
      "source": [
        "from datetime import date\n",
        "ano_atual = date.today().year\n",
        "ano_nasc = float(input('Digite o ano de nascimento do atleta: '))\n",
        "idade = ano_atual - ano_nasc\n",
        "print('O Atleta Nasceu no ano de {:.0f}, ele tem portanto {:.0f} anos'.format(ano_nasc, idade))\n",
        "if idade <= 9:\n",
        "  print('Atleta pertence a Categoria MIRIM')\n",
        "elif idade >=10 and idade <=14:\n",
        "  print('Atleta pertence a Categoria INFANTIL')\n",
        "elif idade >=15 and idade <=19:\n",
        "  print('Atleta pertence a Categoria JUNIOR')\n",
        "elif idade >=20 and idade <=25:\n",
        "  print('Atleta pertence a Categoria SENIOR')\n",
        "else:\n",
        "  print('Atleta pertence a Categoria MASTER')"
      ],
      "metadata": {
        "colab": {
          "base_uri": "https://localhost:8080/"
        },
        "id": "NiPk3Gqq87uE",
        "outputId": "f317eb95-0e05-48b1-87af-c27ec4ae6704"
      },
      "execution_count": null,
      "outputs": [
        {
          "output_type": "stream",
          "name": "stdout",
          "text": [
            "Digite o ano de nascimento do atleta: 2000\n",
            "O Atleta Nasceu no ano de 2000, ele tem portanto 23 anos\n",
            "Atleta pertence a Categoria SENIOR\n"
          ]
        }
      ]
    },
    {
      "cell_type": "code",
      "source": [],
      "metadata": {
        "id": "M72PlG806DFv"
      },
      "execution_count": null,
      "outputs": []
    },
    {
      "cell_type": "markdown",
      "source": [
        "Exercício Python 042: Refaça o DESAFIO 035 dos triângulos, acrescentando o recurso de mostrar que tipo de triângulo será formado:\n",
        "- EQUILÁTERO: todos os lados iguais\n",
        "- ISÓSCELES: dois lados iguais, um diferente\n",
        "- ESCALENO: todos os lados diferentes\n"
      ],
      "metadata": {
        "id": "d_j2kfvscgtu"
      }
    },
    {
      "cell_type": "code",
      "source": [
        "from time import sleep\n",
        "print('Analisando a formação de Triângulo')\n",
        "print('='*30)\n",
        "r1 = float(input('Digite o primeiro comprimento da reta: '))\n",
        "r2 = float(input('Digite o segundo comprimento da reta 2: '))\n",
        "r3 = float(input('Digite o terceiro comprimento da reta 3: '))\n",
        "print('='*30)\n",
        "sleep(1)\n",
        "print('Processando ,,,,,,,,,,')\n",
        "if r1 < r2+ r3 and r2 < r1 + r3 and r3 < r1+ r2:\n",
        "  print(' Os comprimentos acima formam um triângulo')\n",
        "  if r1 == r2 == r3:\n",
        "    print(\" E ele será EQUILÁTERO\")\n",
        "  elif r1 != r2 != r3 != r1:\n",
        "    print(\" E ele será ESCALENO\")\n",
        "  else:\n",
        "    print(\" E ele será ISÓSCELES:\")\n",
        "\n",
        "else:\n",
        "  print(' Os comprimentos acima não formam um triângulo')"
      ],
      "metadata": {
        "colab": {
          "base_uri": "https://localhost:8080/"
        },
        "id": "dmh72817ch93",
        "outputId": "fa71ed90-20ec-4bd4-ea4d-c83182610ad9"
      },
      "execution_count": null,
      "outputs": [
        {
          "output_type": "stream",
          "name": "stdout",
          "text": [
            "Analisando a formação de Triângulo\n",
            "==============================\n",
            "Digite o primeiro comprimento da reta: 10\n",
            "Digite o segundo comprimento da reta 2: 10\n",
            "Digite o terceiro comprimento da reta 3: 1\n",
            "==============================\n",
            "Processando ,,,,,,,,,,\n",
            " Os comprimentos acima formam um triângulo\n",
            " E ele será ISÓSCELES:\n"
          ]
        }
      ]
    },
    {
      "cell_type": "markdown",
      "source": [
        "Exercício Python 043: Desenvolva uma lógica que leia o peso e a altura de uma pessoa, calcule seu Índice de Massa Corporal (IMC) e mostre seu status, de acordo com a tabela abaixo:\n",
        "- IMC abaixo de 18,5: Abaixo do Peso\n",
        "- Entre 18,5 e 25: Peso Ideal\n",
        "- 25 até 30: Sobrepeso\n",
        "- 30 até 40: Obesidade\n",
        "- Acima de 40: Obesidade Mórbida"
      ],
      "metadata": {
        "id": "N8NdLHGsjIBP"
      }
    },
    {
      "cell_type": "code",
      "source": [
        "from io import IncrementalNewlineDecoder\n",
        "peso = float(input('Qual é a seu peso (KG):'))\n",
        "altura = float(input('Qual é a sua altura (M):'))\n",
        "imc = peso / (altura ** 2)\n",
        "print('meu imc é {:.2f}'.format(imc))\n",
        "if imc < 18.5:\n",
        "  print('Você está abaixo do peso')\n",
        "elif imc >= 18.5 and imc < 25:\n",
        "  print('Você esta com peso ideal')\n",
        "elif imc >= 25 and imc < 30:\n",
        "  print('Você esta com sobrepeso')\n",
        "elif imc >= 30 and imc < 40:\n",
        "  print('Você esta com Obesidade')\n",
        "else:\n",
        " print('Você esta com Obesidade Mórbida')"
      ],
      "metadata": {
        "colab": {
          "base_uri": "https://localhost:8080/"
        },
        "id": "45SSahxIjI-Q",
        "outputId": "06d66f99-d771-46ed-b5ff-300ce9683152"
      },
      "execution_count": null,
      "outputs": [
        {
          "output_type": "stream",
          "name": "stdout",
          "text": [
            "Qual é a seu peso (KG):100\n",
            "Qual é a sua altura (M):1.90\n",
            "meu imc é 27.70\n",
            "Você esta com sobrepeso\n"
          ]
        }
      ]
    },
    {
      "cell_type": "markdown",
      "source": [
        "Exercício Python 044: Elabore um programa que calcule o valor a ser pago por um produto, considerando o seu preço normal e condição de pagamento:\n",
        "- à vista dinheiro/cheque: 10% de desconto\n",
        "- à vista no cartão: 5% de desconto\n",
        "- em até 2x no cartão: preço formal\n",
        "- 3x ou mais no cartão: 20% de juros"
      ],
      "metadata": {
        "id": "33T7ceJhpBkA"
      }
    },
    {
      "cell_type": "code",
      "source": [
        "\n",
        "valorp = float(input('Digite o valor do produto em R$:'))\n",
        "print(\"\")\n",
        "print('''formas de pagamento\n",
        "\n",
        "[1] à vista dinheiro/cheque\n",
        "[2] à vista no cartão\n",
        "[3] em até 2x no cartão\n",
        "[4] 3x ou mais no cartão''')\n",
        "print(\"\")\n",
        "escolha = int(input('Escolha a forma de pagamento:'))\n",
        "print(\"\")\n",
        "\n",
        "if escolha == 1:\n",
        "  pagament1 = valorp - (valorp * 10/100)\n",
        "  print(\"\")\n",
        "  print('Valor a ser pago à vista, dinheiro ou cheque é de R$ {:.2f}'.format(pagament1))\n",
        "\n",
        "elif escolha == 2:\n",
        "  pagament2 = valorp - (valorp * 5/100)\n",
        "  print(\"\")\n",
        "  print('Valor a ser pago à vista no cartão é de R$ {:.2f}'.format(pagament2))\n",
        "\n",
        "elif escolha == 3:\n",
        "  pagament3 = valorp/2\n",
        "  print(\"\")\n",
        "  print('Valor a ser pago em até 2x no cartão,terá cada parcalea no valor de R$ {:.2f}'.format(pagament3))\n",
        "\n",
        "elif escolha == 4:\n",
        "  totalparcelas = int(input('Qual total de parcelas?'))\n",
        "  pagament4 = valorp + (valorp * 20/100)\n",
        "  pagament5 = pagament4/totalparcelas\n",
        "  print(\"\")\n",
        "  print('Valor pago será em {} parcelas no valor de R$ {} cada uma'.format(totalparcelas, pagament5))\n",
        "print(\"\")\n",
        "print('Tenha um bom dia e volte sempre')"
      ],
      "metadata": {
        "id": "tonAAi31pCSy",
        "colab": {
          "base_uri": "https://localhost:8080/"
        },
        "outputId": "495994da-faca-4753-a112-6c8a550e202c"
      },
      "execution_count": null,
      "outputs": [
        {
          "output_type": "stream",
          "name": "stdout",
          "text": [
            "Digite o valor do produto em R$:1000\n",
            "\n",
            "formas de pagamento\n",
            "\n",
            "[1] à vista dinheiro/cheque\n",
            "[2] à vista no cartão \n",
            "[3] em até 2x no cartão\n",
            "[4] 3x ou mais no cartão\n",
            "\n",
            "Escolha a forma de pagamento:2\n",
            "\n",
            "\n",
            "Valor a ser pago à vista no cartão é de R$ 950.00\n",
            "\n",
            "Tenha um bom dia e volte sempre\n"
          ]
        }
      ]
    }
  ]
}
