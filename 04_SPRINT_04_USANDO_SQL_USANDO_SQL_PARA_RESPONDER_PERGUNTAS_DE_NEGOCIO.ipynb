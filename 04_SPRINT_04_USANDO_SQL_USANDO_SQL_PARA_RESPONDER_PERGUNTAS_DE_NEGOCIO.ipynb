{
  "nbformat": 4,
  "nbformat_minor": 0,
  "metadata": {
    "colab": {
      "provenance": [],
      "authorship_tag": "ABX9TyPHN3MoZ06JQPPyaiRxJrSQ",
      "include_colab_link": true
    },
    "kernelspec": {
      "name": "python3",
      "display_name": "Python 3"
    },
    "language_info": {
      "name": "python"
    }
  },
  "cells": [
    {
      "cell_type": "markdown",
      "metadata": {
        "id": "view-in-github",
        "colab_type": "text"
      },
      "source": [
        "<a href=\"https://colab.research.google.com/github/mvslopes/PYTHON-ESTUDOS/blob/main/04_SPRINT_04_USANDO_SQL_USANDO_SQL_PARA_RESPONDER_PERGUNTAS_DE_NEGOCIO.ipynb\" target=\"_parent\"><img src=\"https://colab.research.google.com/assets/colab-badge.svg\" alt=\"Open In Colab\"/></a>"
      ]
    },
    {
      "cell_type": "markdown",
      "source": [
        "##**SPRINT 04 - USANDO SQL USANDO SQL PARA RESPONDER PERGUNTAS DE NEGÓCIO**"
      ],
      "metadata": {
        "id": "A6MvRGzOtron"
      }
    },
    {
      "cell_type": "code",
      "source": [
        "SELECT\n",
        "LinhaSeparacao,\n",
        "NumeroLinhaSeparacao,\n",
        "TO_CHAR(ROUND(SUM(MediaProdutividade)::numeric, 0), 'FM999G999G999D') AS ProdutividadeArredondada,\n",
        "RANK() OVER (ORDER BY SUM(MediaProdutividade) DESC) AS RankProdutividade\n",
        "\n",
        "FROM (\n",
        "SELECT\n",
        "linha_separacao_01 AS LinhaSeparacao,\n",
        "'01' AS NumeroLinhaSeparacao,\n",
        "SUM(\"produtividade_linha_01_pç_h\") AS MediaProdutividade\n",
        "FROM produtividade.tb_produtos_cabelos\n",
        "GROUP BY linha_separacao_01\n",
        "\n",
        "UNION ALL\n",
        "\n",
        "SELECT linha_separacao_02 AS LinhaSeparacao,\n",
        "'02' AS NumeroLinhaSeparacao,\n",
        "SUM(\"produtividade_linha_02_pç_h\") AS MediaProdutividade\n",
        "FROM produtividade.tb_produtos_cabelos\n",
        "GROUP BY linha_separacao_02\n",
        "\n",
        "UNION ALL\n",
        "\n",
        "SELECT linha_separacao_03 AS LinhaSeparacao,\n",
        "'03' AS NumeroLinhaSeparacao,\n",
        "SUM(\"produtividade_linha_03_pç_h\") AS MediaProdutividade\n",
        "FROM produtividade.tb_produtos_cabelos\n",
        "GROUP BY linha_separacao_03\n",
        "\n",
        "UNION ALL\n",
        "\n",
        "SELECT linha_separacao_04 AS LinhaSeparacao,\n",
        "'04' AS NumeroLinhaSeparacao,\n",
        "SUM(\"produtividade_linha_04_pç_h\") AS MediaProdutividade\n",
        "FROM produtividade.tb_produtos_cabelos\n",
        "GROUP BY linha_separacao_04\n",
        "\n",
        ")\n",
        "AS ProdutividadeRank\n",
        "\n",
        "GROUP BY  LinhaSeparacao, NumeroLinhaSeparacao\n",
        "ORDER BY RankProdutividade;\n"
      ],
      "metadata": {
        "id": "1_sGTbNU69UP"
      },
      "execution_count": null,
      "outputs": []
    }
  ]
}