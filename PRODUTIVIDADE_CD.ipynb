{
  "nbformat": 4,
  "nbformat_minor": 0,
  "metadata": {
    "colab": {
      "private_outputs": true,
      "provenance": []
    },
    "kernelspec": {
      "name": "python3",
      "display_name": "Python 3"
    },
    "language_info": {
      "name": "python"
    }
  },
  "cells": [
    {
      "cell_type": "markdown",
      "source": [
        "#**Análise Descritiva**\n",
        "##**Dados da Produtividade das Linha de Separação**\n",
        "##**Centro de Distrbuição de Produtos de Cabelos e Pele**"
      ],
      "metadata": {
        "id": "5VXHGOAYj0HO"
      }
    },
    {
      "cell_type": "markdown",
      "source": [
        "**01-Objetivo:**"
      ],
      "metadata": {
        "id": "ArNZ734hlLS7"
      }
    },
    {
      "cell_type": "markdown",
      "source": [],
      "metadata": {
        "id": "JLadnHyXnUqS"
      }
    },
    {
      "cell_type": "markdown",
      "source": [
        "**02- Instalando e carregando os pacotes para analise**"
      ],
      "metadata": {
        "id": "TiizCAX7lRIz"
      }
    },
    {
      "cell_type": "code",
      "execution_count": null,
      "metadata": {
        "id": "LhuPVUwe0af_"
      },
      "outputs": [],
      "source": [
        "from google.colab import drive\n",
        "drive.mount('/content/drive')"
      ]
    },
    {
      "cell_type": "code",
      "source": [
        "# Imports\n",
        "import pandas as pd\n",
        "import numpy as np\n",
        "import seaborn as sns\n",
        "import matplotlib.pyplot as plt\n",
        "import plotly.express as px\n",
        "import plotly.graph_objects as go"
      ],
      "metadata": {
        "id": "grRKr4R70yOG"
      },
      "execution_count": null,
      "outputs": []
    },
    {
      "cell_type": "markdown",
      "source": [],
      "metadata": {
        "id": "J9IY-qkelQgv"
      }
    }
  ]
}