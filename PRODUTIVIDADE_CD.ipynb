{
  "nbformat": 4,
  "nbformat_minor": 0,
  "metadata": {
    "colab": {
      "private_outputs": true,
      "provenance": [],
      "authorship_tag": "ABX9TyNDirT/XuYQ1RO2Yx4w0k00",
      "include_colab_link": true
    },
    "kernelspec": {
      "name": "python3",
      "display_name": "Python 3"
    },
    "language_info": {
      "name": "python"
    }
  },
  "cells": [
    {
      "cell_type": "markdown",
      "metadata": {
        "id": "view-in-github",
        "colab_type": "text"
      },
      "source": [
        "<a href=\"https://colab.research.google.com/github/mvslopes/PYTHON-ESTUDOS/blob/main/PRODUTIVIDADE_CD.ipynb\" target=\"_parent\"><img src=\"https://colab.research.google.com/assets/colab-badge.svg\" alt=\"Open In Colab\"/></a>"
      ]
    },
    {
      "cell_type": "markdown",
      "source": [
        "#**Análise Descritiva**\n",
        "**Dados da Produtividade das Linha de Separação**\\\n",
        "**Centro de Distrbuição de Produtos de Cabelos e Pele**"
      ],
      "metadata": {
        "id": "5VXHGOAYj0HO"
      }
    },
    {
      "cell_type": "markdown",
      "source": [
        "**01-Objetivo:**"
      ],
      "metadata": {
        "id": "ArNZ734hlLS7"
      }
    },
    {
      "cell_type": "markdown",
      "source": [
        "**02- Instalando e carregando os pacotes para analise**"
      ],
      "metadata": {
        "id": "TiizCAX7lRIz"
      }
    },
    {
      "cell_type": "code",
      "execution_count": null,
      "metadata": {
        "id": "LhuPVUwe0af_"
      },
      "outputs": [],
      "source": [
        "from google.colab import drive\n",
        "drive.mount('/content/drive')"
      ]
    },
    {
      "cell_type": "code",
      "source": [
        "# Imports\n",
        "import pandas as pd\n",
        "import numpy as np\n",
        "import seaborn as sns\n",
        "import matplotlib.pyplot as plt\n",
        "import plotly.express as px\n",
        "import plotly.graph_objects as go"
      ],
      "metadata": {
        "id": "grRKr4R70yOG"
      },
      "execution_count": null,
      "outputs": []
    },
    {
      "cell_type": "markdown",
      "source": [],
      "metadata": {
        "id": "J9IY-qkelQgv"
      }
    }
  ]
}