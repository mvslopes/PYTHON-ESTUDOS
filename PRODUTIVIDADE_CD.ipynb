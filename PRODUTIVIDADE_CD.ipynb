{
  "nbformat": 4,
  "nbformat_minor": 0,
  "metadata": {
    "colab": {
      "private_outputs": true,
      "provenance": [],
      "authorship_tag": "ABX9TyPFPEeSoWAh3EakojE9Ta/O",
      "include_colab_link": true
    },
    "kernelspec": {
      "name": "python3",
      "display_name": "Python 3"
    },
    "language_info": {
      "name": "python"
    }
  },
  "cells": [
    {
      "cell_type": "markdown",
      "metadata": {
        "id": "view-in-github",
        "colab_type": "text"
      },
      "source": [
        "<a href=\"https://colab.research.google.com/github/mvslopes/PYTHON-ESTUDOS/blob/main/PRODUTIVIDADE_CD.ipynb\" target=\"_parent\"><img src=\"https://colab.research.google.com/assets/colab-badge.svg\" alt=\"Open In Colab\"/></a>"
      ]
    },
    {
      "cell_type": "markdown",
      "source": [
        "#**Análise Descritiva**\n",
        "##**Dados da Produtividade das Linha de Separação**\n",
        "##**Centro de Distrbuição de Produtos de Cabelos e Pele**\n",
        "\n",
        "# <font color='blue'>**ANÁLISE DESCRITIVA**</font>"
      ],
      "metadata": {
        "id": "5VXHGOAYj0HO"
      }
    },
    {
      "cell_type": "markdown",
      "source": [
        "**01-Objetivo:**"
      ],
      "metadata": {
        "id": "ArNZ734hlLS7"
      }
    },
    {
      "cell_type": "markdown",
      "source": [],
      "metadata": {
        "id": "JLadnHyXnUqS"
      }
    },
    {
      "cell_type": "markdown",
      "source": [
        "#**02-Instalando e carregando os pacotes**\n"
      ],
      "metadata": {
        "id": "TiizCAX7lRIz"
      }
    },
    {
      "cell_type": "code",
      "execution_count": null,
      "metadata": {
        "id": "LhuPVUwe0af_"
      },
      "outputs": [],
      "source": [
        "from google.colab import drive\n",
        "drive.mount('/content/drive')"
      ]
    },
    {
      "cell_type": "code",
      "source": [
        "# Imports\n",
        "import pandas as pd\n",
        "import numpy as np\n",
        "import seaborn as sns\n",
        "import matplotlib.pyplot as plt\n",
        "import plotly.express as px\n",
        "import plotly.graph_objects as go"
      ],
      "metadata": {
        "id": "4YaL0j51oCkX"
      },
      "execution_count": null,
      "outputs": []
    },
    {
      "cell_type": "markdown",
      "source": [
        "#**03-Carregando e compreendendo os dados do dataframe**"
      ],
      "metadata": {
        "id": "hgZnWSQkX4ne"
      }
    },
    {
      "cell_type": "code",
      "source": [
        "dfprod = pd.read_csv(\"/content/drive/MyDrive/\\\n",
        "02-PROJETOS/06_ANALISE_PRODUTIVIDADE_CD/PRODUTIVIDADE_CD23.csv\",encoding =\\\n",
        "                     \"ISO-8859-1\")\n",
        "# 01-código para carregar o dataset de produtividade das linhas de separação"
      ],
      "metadata": {
        "id": "CD5CJz9MYO3_"
      },
      "execution_count": null,
      "outputs": []
    },
    {
      "cell_type": "code",
      "source": [
        "dfprod.shape\n",
        "# 02-código para mostrar a quantidade de linhas e colunas do dataframe.\n",
        "# Temos 21.840 linhas e 07 colunas."
      ],
      "metadata": {
        "id": "YIvyt7jzpBl4"
      },
      "execution_count": null,
      "outputs": []
    },
    {
      "cell_type": "code",
      "source": [
        "dfprod.isna().sum()\n",
        "# 03-código para contar o número de valores nulos (NaN) em cada coluna,\n",
        "# Não temos nenhum valor nulo."
      ],
      "metadata": {
        "id": "ywDjOGZepFS2"
      },
      "execution_count": null,
      "outputs": []
    },
    {
      "cell_type": "code",
      "source": [
        "dfprod.head()\n",
        "# 04-código para verificar as primeiras 05 linhas do dataframe."
      ],
      "metadata": {
        "id": "zNRhJYHspM22"
      },
      "execution_count": null,
      "outputs": []
    },
    {
      "cell_type": "code",
      "source": [
        "dfprod.tail()\n",
        "# 05-código para verificar as 05 últimas linhas do dataframe."
      ],
      "metadata": {
        "id": "AKcUd_typP4W"
      },
      "execution_count": null,
      "outputs": []
    },
    {
      "cell_type": "code",
      "source": [
        "dfprod.info()\n",
        "# 06-código para fornecer informações concisas sobre um dataFrame."
      ],
      "metadata": {
        "id": "-AKF2PsBpYMu"
      },
      "execution_count": null,
      "outputs": []
    },
    {
      "cell_type": "code",
      "source": [
        "dfprod.select_dtypes(include='int64')\n",
        "# 06-Código para selecionar as colunas do dataFrame com dados int64 (inteiros).\n",
        "# Temos no dataframe 21.840 linhas e 1 coluna com tipo de dados int64 (inteiros."
      ],
      "metadata": {
        "id": "mqXnG3_tpcQG"
      },
      "execution_count": null,
      "outputs": []
    },
    {
      "cell_type": "code",
      "source": [
        "dfprod.select_dtypes(include='object')\n",
        "# 07- Código para selecionar as colunas do DataFrame com dados object (texto).\n",
        "# Temos no dataframe 21,840 linhas e 06 colunas com dados object (texto)."
      ],
      "metadata": {
        "id": "USBBJe6HphSN"
      },
      "execution_count": null,
      "outputs": []
    },
    {
      "cell_type": "code",
      "source": [
        "dfprod.describe()\n",
        "# 08- código para gerar as estatísticas descritivas para as colunas numéricas.\n",
        "# Temos count = quantidade de linhas,\n",
        "# mean = Média da separação de peças/h.\n",
        "# min = Indica o valor minimo que foi alcabçado na separação de peças/h.\n",
        "# std =  Desvio padrão separação de peças/h\n",
        "# 1ª quartil =  25 %  da separação de peças/h estão abaixo desse valor.\n",
        "# 2ª Quartil = Mediana = 50%  da separação de peças/h estão abaixo desse valor.\n",
        "# 3ª Quartil = 75% da separação de peças/h estã abaixo dessa valor.\n",
        "# máx = Indica o valor máximo que foi alcabçado na separação de peças/h."
      ],
      "metadata": {
        "id": "c5PZ_ScaplaN"
      },
      "execution_count": null,
      "outputs": []
    },
    {
      "cell_type": "code",
      "source": [
        "dfprod.duplicated().sum()\n",
        "# 10- Código retornar o número total de linhas duplicadas no dataFrame.\n",
        "# Não temos no dataframe nenhuma linha duplicada"
      ],
      "metadata": {
        "id": "c9thPokJqyE7"
      },
      "execution_count": null,
      "outputs": []
    },
    {
      "cell_type": "markdown",
      "source": [
        "#**04-Respondendo as perguntas de negócios**"
      ],
      "metadata": {
        "id": "_8GhwZPsq-o5"
      }
    },
    {
      "cell_type": "markdown",
      "source": [
        "##**4.1-Qual é a distribuição da separação de peças por hora no centro de distribuição?**"
      ],
      "metadata": {
        "id": "otYmvB9trdjn"
      }
    },
    {
      "cell_type": "markdown",
      "source": [
        "####**A- Cálculo do Histograma**"
      ],
      "metadata": {
        "id": "UAp5tcBLrwZf"
      }
    },
    {
      "cell_type": "code",
      "source": [
        "# A- Cálculo do Histograma\n",
        "dfprod[\"produtividade\"].hist(bins=30, edgecolor='black')\n",
        "plt.title('Histograma de Seoaração de peças/h Linhas de Separação')\n",
        "plt.xlabel('Produtividade')\n",
        "plt.ylabel('Frequência')\n",
        "plt.show()"
      ],
      "metadata": {
        "id": "g665qfclrqYw"
      },
      "execution_count": null,
      "outputs": []
    },
    {
      "cell_type": "code",
      "source": [
        "import plotly.express as px\n",
        "fig = px.box(dfprod, y=\"produtividade\")\n",
        "fig.show()\n"
      ],
      "metadata": {
        "id": "wIpr8_f9tr1D"
      },
      "execution_count": null,
      "outputs": []
    },
    {
      "cell_type": "code",
      "source": [
        "# B- Cálculo do Bloxplot\n",
        "sns.boxplot(dfprod[\"produtividade\"])"
      ],
      "metadata": {
        "id": "Y5iE6b6bsSpG"
      },
      "execution_count": null,
      "outputs": []
    },
    {
      "cell_type": "code",
      "source": [
        "# C- Cálculo od coeficiente de variação\n",
        "# Coeficiente de variação: Medida relativa de variabilidade em relação à média.\n",
        "\n",
        "dfprod[\"produtividade\"].std()/dfprod[\"produtividade\"].mean()"
      ],
      "metadata": {
        "id": "M7RnwmT_sr-1"
      },
      "execution_count": null,
      "outputs": []
    },
    {
      "cell_type": "code",
      "source": [
        "# Calcular a assimetria, ou \"skew\"\n",
        "# Entender a forma da distribuição de um conjunto de dados (produtividade)\n",
        "# Descreve a inclinação ou distorção de uma distribuição em relação à sua média.\n",
        "# Skewness = 0: Indica que a distribuição é perfeitamente simétrica.\n",
        "# Skewness > 0: Indica assimetria à direita (a cauda direita é mais longa).\n",
        "# Skewness < 0: Indica assimetria à esquerda (a cauda esquerda é mais longa).\n",
        "\n",
        "dfprod[\"produtividade\"].skew()"
      ],
      "metadata": {
        "id": "Hxd32OkVsw-e"
      },
      "execution_count": null,
      "outputs": []
    },
    {
      "cell_type": "code",
      "source": [
        "df_media_turno = dfprod.groupby([\"turno_sep\"])[\"produtividade\"].mean().reset_index()\n",
        "dfturnos = df_media_turno.rename(columns={'produtividade': 'Media_produtividade_turno'})\n",
        "# Criar uma lista de cores para cada linha_sep\n",
        "cores = ['steelblue', 'green']  # Adicione mais cores conforme necessário\n",
        "# Criar o gráfico de barras\n",
        "# Criar o gráfico de barras\n",
        "fig, ax = plt.subplots()\n",
        "bars = ax.bar(dfturnos[\"turno_sep\"], dfturnos['Media_produtividade_turno'], color=cores)\n",
        "# Adicionar uma linha horizontal para a média de 1500 peças\n",
        "ax.axhline(y=1500, color='black', linestyle='-', label='Média de 1500 peças')\n",
        "# Adicionar rótulos\n",
        "ax.set_xlabel('Turnos')\n",
        "ax.set_ylabel('Separação unid/h')\n",
        "ax.set_title('Média de Separação de peças/h - Turnos')\n",
        "# Adicionar os valores no centro de cada barra\n",
        "for bar in bars:\n",
        "    yval = bar.get_height()\n",
        "    plt.text(bar.get_x() + bar.get_width()/2, yval, round(yval, 2),\\\n",
        "             ha='center', va='bottom', color='black')\n",
        "# Exibir o gráfico\n",
        "plt.show()\n"
      ],
      "metadata": {
        "id": "2XMSxGDRujsJ"
      },
      "execution_count": null,
      "outputs": []
    },
    {
      "cell_type": "code",
      "source": [
        "# Código para agrupar e renomear colunas\n",
        "dfhora_sep = dfprod.groupby([\"hora_sep\"])[\"produtividade\"].mean().reset_index()\n",
        "dfhora_sep1 = dfhora_sep.rename(columns={'produtividade': 'Media_produtividade_hora'})\n",
        "\n",
        "# Criar o gráfico de barras\n",
        "plt.figure(figsize=(18, 10))\n",
        "plt.bar(dfhora_sep1[\"hora_sep\"], dfhora_sep1[\"Media_produtividade_hora\"], color='steelblue')\n",
        "\n",
        "# Adicionar uma linha horizontal para a média de 1500 peças\n",
        "plt.axhline(y=1500, color='black', linestyle='-', label='Média de 1500 peças')\n",
        "\n",
        "# Adicionar rótulos e título com tamanho de letra aumentado\n",
        "plt.xlabel('Hora de Separação', fontsize=10)\n",
        "plt.ylabel('Separação peças/h', fontsize=12)\n",
        "plt.title('Média de Separação peças a cada hora do dia', fontsize=20)\n",
        "\n",
        "# Ajustar tamanho da fonte das marcações no eixo x\n",
        "plt.xticks(fontsize= 12)\n",
        "\n",
        "# Adicionar legenda\n",
        "plt.legend()\n",
        "\n",
        "# Exibir o gráfico\n",
        "plt.show()"
      ],
      "metadata": {
        "id": "LCBaDBxPun2Q"
      },
      "execution_count": null,
      "outputs": []
    },
    {
      "cell_type": "code",
      "source": [
        "dfmes = dfprod.groupby([\"mes\"])[\"produtividade\"].mean().reset_index()\n",
        "dfmeses = dfmes.rename(columns={'produtividade': 'Media_produtividade_mes'})\n",
        "print(dfmeses)"
      ],
      "metadata": {
        "id": "3Xt8QZsbu293"
      },
      "execution_count": null,
      "outputs": []
    },
    {
      "cell_type": "code",
      "source": [
        "dfcategorias = dfprod.groupby([\"categoria\"])[\"produtividade\"].mean().reset_index()\n",
        "dfcategorias02 = dfcategorias.rename(columns={'produtividade': 'Media_produtividade_categoria'})\n",
        "print(dfcategorias02)"
      ],
      "metadata": {
        "id": "tj9H9BvCu_xv"
      },
      "execution_count": null,
      "outputs": []
    },
    {
      "cell_type": "code",
      "source": [
        "# Calcular as médias por linha e renomear a coluna\n",
        "dfmedia_linhas = dfprod.groupby([\"linha_sep\"])[\"produtividade\"].mean().reset_index()\n",
        "dfmedia_linhas02 = dfmedia_linhas.rename(columns={'produtividade': 'Media_produtividade'})\n",
        "# Criar uma lista de cores para cada linha_sep\n",
        "cores = ['steelblue', 'green', 'orange', 'red', 'purple']  # Adicione mais cores conforme necessário\n",
        "# Criar o gráfico de barras\n",
        "fig, ax = plt.subplots()\n",
        "bars = ax.bar(dfmedia_linhas02['linha_sep'], dfmedia_linhas02['Media_produtividade'], color=cores)\n",
        "# Adicionar uma linha horizontal para a média de 1500 peças\n",
        "ax.axhline(y=1500, color='black', linestyle='-', label='Média de 1500 peças')\n",
        "# Adicionar rótulos\n",
        "ax.set_xlabel('Linhas de Separação')\n",
        "ax.set_ylabel('separação unid/h')\n",
        "ax.set_title('Média de Separação unid/h Linhas')\n",
        "# Adicionar os valores no centro de cada barra\n",
        "for bar in bars:\n",
        "    yval = bar.get_height()\n",
        "    ax.text(bar.get_x() + bar.get_width()/2, yval, round(yval, 2),\\\n",
        "            ha= 'center', va='bottom', color='black')\n",
        "# Exibir o gráfico\n",
        "plt.show()"
      ],
      "metadata": {
        "id": "LbdG7P17vF3I"
      },
      "execution_count": null,
      "outputs": []
    }
  ]
}