{
  "nbformat": 4,
  "nbformat_minor": 0,
  "metadata": {
    "colab": {
      "provenance": [],
      "cell_execution_strategy": "setup",
      "authorship_tag": "ABX9TyPT6HcwacIRkgl5pEOCaDE0",
      "include_colab_link": true
    },
    "kernelspec": {
      "name": "python3",
      "display_name": "Python 3"
    },
    "language_info": {
      "name": "python"
    }
  },
  "cells": [
    {
      "cell_type": "markdown",
      "metadata": {
        "id": "view-in-github",
        "colab_type": "text"
      },
      "source": [
        "<a href=\"https://colab.research.google.com/github/mvslopes/PYTHON-ESTUDOS/blob/main/Untitled0.ipynb\" target=\"_parent\"><img src=\"https://colab.research.google.com/assets/colab-badge.svg\" alt=\"Open In Colab\"/></a>"
      ]
    },
    {
      "cell_type": "code",
      "execution_count": 2,
      "metadata": {
        "id": "P9iXr-lS2-hB"
      },
      "outputs": [],
      "source": [
        "# Imports\n",
        "import pandas as pd\n",
        "import numpy as np\n",
        "import seaborn as sns\n",
        "import matplotlib.pyplot as plt\n",
        "import plotly.express as px\n",
        "import plotly.graph_objects as go"
      ]
    },
    {
      "cell_type": "code",
      "source": [
        "dfprod = pd.read_csv(\"/home/PRODUTIVIDADE_CD23.csv\",encoding = \"ISO-8859-1\")\n",
        "# 01- código para carregar o dataset de produtividade das linhas de separação do centro de Distrbuição."
      ],
      "metadata": {
        "id": "aTDEtaKj3GJo"
      },
      "execution_count": 3,
      "outputs": []
    },
    {
      "cell_type": "code",
      "source": [
        "dfprod.shape\n",
        "# 02- código para mostrar a quantidade de linhas e colunas do dataframe.\n",
        "# Temos 21.840 linhas e 07 colunas."
      ],
      "metadata": {
        "colab": {
          "base_uri": "https://localhost:8080/"
        },
        "id": "6GT2ZQfP4YI1",
        "outputId": "9758e61b-3dbb-4deb-f9a6-05bfccb7f534"
      },
      "execution_count": 4,
      "outputs": [
        {
          "output_type": "execute_result",
          "data": {
            "text/plain": [
              "(21840, 7)"
            ]
          },
          "metadata": {},
          "execution_count": 4
        }
      ]
    }
  ]
}