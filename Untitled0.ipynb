{
  "nbformat": 4,
  "nbformat_minor": 0,
  "metadata": {
    "colab": {
      "private_outputs": true,
      "provenance": [],
      "authorship_tag": "ABX9TyPT6HcwacIRkgl5pEOCaDE0",
      "include_colab_link": true
    },
    "kernelspec": {
      "name": "python3",
      "display_name": "Python 3"
    },
    "language_info": {
      "name": "python"
    }
  },
  "cells": [
    {
      "cell_type": "markdown",
      "metadata": {
        "id": "view-in-github",
        "colab_type": "text"
      },
      "source": [
        "<a href=\"https://colab.research.google.com/github/mvslopes/PYTHON-ESTUDOS/blob/main/Untitled0.ipynb\" target=\"_parent\"><img src=\"https://colab.research.google.com/assets/colab-badge.svg\" alt=\"Open In Colab\"/></a>"
      ]
    },
    {
      "cell_type": "code",
      "execution_count": null,
      "metadata": {
        "id": "P9iXr-lS2-hB"
      },
      "outputs": [],
      "source": [
        "# Imports\n",
        "import pandas as pd\n",
        "import numpy as np\n",
        "import seaborn as sns\n",
        "import matplotlib.pyplot as plt\n",
        "import plotly.express as px\n",
        "import plotly.graph_objects as go"
      ]
    },
    {
      "cell_type": "code",
      "source": [
        "dfprod = pd.read_csv(\"/home/PRODUTIVIDADE_CD23.csv\",encoding = \"ISO-8859-1\")\n",
        "# 01- código para carregar o dataset de produtividade das linhas de separação do centro de Distrbuição."
      ],
      "metadata": {
        "id": "aTDEtaKj3GJo"
      },
      "execution_count": null,
      "outputs": []
    },
    {
      "cell_type": "code",
      "source": [
        "dfprod.shape\n",
        "# 02- código para mostrar a quantidade de linhas e colunas do dataframe.\n",
        "# Temos 21.840 linhas e 07 colunas."
      ],
      "metadata": {
        "id": "6GT2ZQfP4YI1"
      },
      "execution_count": null,
      "outputs": []
    }
  ]
}