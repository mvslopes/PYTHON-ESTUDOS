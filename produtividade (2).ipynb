{
 "cells": [
  {
   "cell_type": "markdown",
   "id": "37e9c51a",
   "metadata": {},
   "source": [
    "\n",
    "# <font color='blue'>ANÁLISE DESCRITIVA </font>\n",
    "## <font color='blue'> Dados da Produtividade das Linhas de Separação </font>\n",
    "## <font color='blue'> Centro de Distribuição de Cosméticos </font>\n"
   ]
  },
  {
   "cell_type": "markdown",
   "id": "5c5acbfe",
   "metadata": {},
   "source": [
    "## **Objetivo:** \n",
    "\n",
    "da nossa análise é identificar os principais fatores que influenciam a produtividade nas linhas de produção e explorar as tendências de desempenho em diferentes turnos. "
   ]
  },
  {
   "cell_type": "markdown",
   "id": "3448aef2",
   "metadata": {},
   "source": [
    "## Instalando e Carregando Pacotes"
   ]
  },
  {
   "cell_type": "code",
   "execution_count": 1,
   "id": "a4853a7c",
   "metadata": {},
   "outputs": [],
   "source": [
    "# Imports\n",
    "import pandas as pd\n",
    "import numpy as np\n",
    "import seaborn as sns\n",
    "import matplotlib.pyplot as plt\n",
    "import plotly.express as px\n",
    "import plotly.graph_objects as go"
   ]
  },
  {
   "cell_type": "markdown",
   "id": "58d61570",
   "metadata": {},
   "source": [
    "## Carregando e Compreendendo os Dados"
   ]
  },
  {
   "cell_type": "code",
   "execution_count": 2,
   "id": "d7e5ab21",
   "metadata": {},
   "outputs": [],
   "source": [
    "# 01- Dataset de produtividade das linhas de separação do centro de Distrbuição\n",
    "# Periodo de analises dos 01-02-2023 a 31-10-2023\n",
    "# 06 linhas de separação de produtos\n",
    "\n",
    "dfprod = pd.read_csv(\"C:\\Arquivos\\produtividade_cd01.csv\",encoding = \"ISO-8859-1\")"
   ]
  },
  {
   "cell_type": "code",
   "execution_count": 3,
   "id": "6d9a9bae",
   "metadata": {},
   "outputs": [
    {
     "data": {
      "text/plain": [
       "(21840, 7)"
      ]
     },
     "execution_count": 3,
     "metadata": {},
     "output_type": "execute_result"
    }
   ],
   "source": [
    "# 02- Mostrar a quantidade de linhas e colunas\n",
    "# Temos 21840 linhas e 07 colunas\n",
    "dfprod.shape"
   ]
  },
  {
   "cell_type": "code",
   "execution_count": 4,
   "id": "6666dffc",
   "metadata": {},
   "outputs": [
    {
     "data": {
      "text/plain": [
       "data_sep         0\n",
       "mes              0\n",
       "hora_sep         0\n",
       "turno_sep        0\n",
       "linha_sep        0\n",
       "categoria        0\n",
       "produtividade    0\n",
       "dtype: int64"
      ]
     },
     "execution_count": 4,
     "metadata": {},
     "output_type": "execute_result"
    }
   ],
   "source": [
    "# 09- Contar o número de valores nulos (NaN) em cada coluna do DataFrame\n",
    "# Não temos nenhum valor nulo\n",
    "dfprod.isna().sum()"
   ]
  },
  {
   "cell_type": "code",
   "execution_count": 5,
   "id": "32be06da",
   "metadata": {},
   "outputs": [
    {
     "data": {
      "text/html": [
       "<div>\n",
       "<style scoped>\n",
       "    .dataframe tbody tr th:only-of-type {\n",
       "        vertical-align: middle;\n",
       "    }\n",
       "\n",
       "    .dataframe tbody tr th {\n",
       "        vertical-align: top;\n",
       "    }\n",
       "\n",
       "    .dataframe thead th {\n",
       "        text-align: right;\n",
       "    }\n",
       "</style>\n",
       "<table border=\"1\" class=\"dataframe\">\n",
       "  <thead>\n",
       "    <tr style=\"text-align: right;\">\n",
       "      <th></th>\n",
       "      <th>data_sep</th>\n",
       "      <th>mes</th>\n",
       "      <th>hora_sep</th>\n",
       "      <th>turno_sep</th>\n",
       "      <th>linha_sep</th>\n",
       "      <th>categoria</th>\n",
       "      <th>produtividade</th>\n",
       "    </tr>\n",
       "  </thead>\n",
       "  <tbody>\n",
       "    <tr>\n",
       "      <th>0</th>\n",
       "      <td>02/01/2023</td>\n",
       "      <td>jan</td>\n",
       "      <td>06:00-07:00</td>\n",
       "      <td>primeiro_turno</td>\n",
       "      <td>linha_01</td>\n",
       "      <td>shampoos</td>\n",
       "      <td>1000</td>\n",
       "    </tr>\n",
       "    <tr>\n",
       "      <th>1</th>\n",
       "      <td>02/01/2023</td>\n",
       "      <td>jan</td>\n",
       "      <td>07:00-08:00</td>\n",
       "      <td>primeiro_turno</td>\n",
       "      <td>linha_01</td>\n",
       "      <td>shampoos</td>\n",
       "      <td>2849</td>\n",
       "    </tr>\n",
       "    <tr>\n",
       "      <th>2</th>\n",
       "      <td>02/01/2023</td>\n",
       "      <td>jan</td>\n",
       "      <td>08:00-09:00</td>\n",
       "      <td>primeiro_turno</td>\n",
       "      <td>linha_01</td>\n",
       "      <td>shampoos</td>\n",
       "      <td>823</td>\n",
       "    </tr>\n",
       "    <tr>\n",
       "      <th>3</th>\n",
       "      <td>02/01/2023</td>\n",
       "      <td>jan</td>\n",
       "      <td>09:00-10:00</td>\n",
       "      <td>primeiro_turno</td>\n",
       "      <td>linha_01</td>\n",
       "      <td>shampoos</td>\n",
       "      <td>2478</td>\n",
       "    </tr>\n",
       "    <tr>\n",
       "      <th>4</th>\n",
       "      <td>02/01/2023</td>\n",
       "      <td>jan</td>\n",
       "      <td>10:00-11:00</td>\n",
       "      <td>primeiro_turno</td>\n",
       "      <td>linha_01</td>\n",
       "      <td>shampoos</td>\n",
       "      <td>1678</td>\n",
       "    </tr>\n",
       "  </tbody>\n",
       "</table>\n",
       "</div>"
      ],
      "text/plain": [
       "     data_sep  mes     hora_sep       turno_sep linha_sep categoria  \\\n",
       "0  02/01/2023  jan  06:00-07:00  primeiro_turno  linha_01  shampoos   \n",
       "1  02/01/2023  jan  07:00-08:00  primeiro_turno  linha_01  shampoos   \n",
       "2  02/01/2023  jan  08:00-09:00  primeiro_turno  linha_01  shampoos   \n",
       "3  02/01/2023  jan  09:00-10:00  primeiro_turno  linha_01  shampoos   \n",
       "4  02/01/2023  jan  10:00-11:00  primeiro_turno  linha_01  shampoos   \n",
       "\n",
       "   produtividade  \n",
       "0           1000  \n",
       "1           2849  \n",
       "2            823  \n",
       "3           2478  \n",
       "4           1678  "
      ]
     },
     "execution_count": 5,
     "metadata": {},
     "output_type": "execute_result"
    }
   ],
   "source": [
    "# 03- Verificar as primeiras linhas do dataframe\n",
    "dfprod.head() "
   ]
  },
  {
   "cell_type": "code",
   "execution_count": 6,
   "id": "6068de5c",
   "metadata": {},
   "outputs": [
    {
     "data": {
      "text/html": [
       "<div>\n",
       "<style scoped>\n",
       "    .dataframe tbody tr th:only-of-type {\n",
       "        vertical-align: middle;\n",
       "    }\n",
       "\n",
       "    .dataframe tbody tr th {\n",
       "        vertical-align: top;\n",
       "    }\n",
       "\n",
       "    .dataframe thead th {\n",
       "        text-align: right;\n",
       "    }\n",
       "</style>\n",
       "<table border=\"1\" class=\"dataframe\">\n",
       "  <thead>\n",
       "    <tr style=\"text-align: right;\">\n",
       "      <th></th>\n",
       "      <th>data_sep</th>\n",
       "      <th>mes</th>\n",
       "      <th>hora_sep</th>\n",
       "      <th>turno_sep</th>\n",
       "      <th>linha_sep</th>\n",
       "      <th>categoria</th>\n",
       "      <th>produtividade</th>\n",
       "    </tr>\n",
       "  </thead>\n",
       "  <tbody>\n",
       "    <tr>\n",
       "      <th>21835</th>\n",
       "      <td>31/10/2023</td>\n",
       "      <td>out</td>\n",
       "      <td>16:00-17:00</td>\n",
       "      <td>segundo_turno</td>\n",
       "      <td>linha_06</td>\n",
       "      <td>protetor_solar</td>\n",
       "      <td>1625</td>\n",
       "    </tr>\n",
       "    <tr>\n",
       "      <th>21836</th>\n",
       "      <td>31/10/2023</td>\n",
       "      <td>out</td>\n",
       "      <td>17:00-18:00</td>\n",
       "      <td>segundo_turno</td>\n",
       "      <td>linha_06</td>\n",
       "      <td>protetor_solar</td>\n",
       "      <td>1682</td>\n",
       "    </tr>\n",
       "    <tr>\n",
       "      <th>21837</th>\n",
       "      <td>31/10/2023</td>\n",
       "      <td>out</td>\n",
       "      <td>19:00-20:00</td>\n",
       "      <td>segundo_turno</td>\n",
       "      <td>linha_06</td>\n",
       "      <td>protetor_solar</td>\n",
       "      <td>1826</td>\n",
       "    </tr>\n",
       "    <tr>\n",
       "      <th>21838</th>\n",
       "      <td>31/10/2023</td>\n",
       "      <td>out</td>\n",
       "      <td>20:00-21:00</td>\n",
       "      <td>segundo_turno</td>\n",
       "      <td>linha_06</td>\n",
       "      <td>protetor_solar</td>\n",
       "      <td>796</td>\n",
       "    </tr>\n",
       "    <tr>\n",
       "      <th>21839</th>\n",
       "      <td>31/10/2023</td>\n",
       "      <td>out</td>\n",
       "      <td>21:00-22:00</td>\n",
       "      <td>segundo_turno</td>\n",
       "      <td>linha_06</td>\n",
       "      <td>protetor_solar</td>\n",
       "      <td>957</td>\n",
       "    </tr>\n",
       "  </tbody>\n",
       "</table>\n",
       "</div>"
      ],
      "text/plain": [
       "         data_sep  mes     hora_sep      turno_sep linha_sep       categoria  \\\n",
       "21835  31/10/2023  out  16:00-17:00  segundo_turno  linha_06  protetor_solar   \n",
       "21836  31/10/2023  out  17:00-18:00  segundo_turno  linha_06  protetor_solar   \n",
       "21837  31/10/2023  out  19:00-20:00  segundo_turno  linha_06  protetor_solar   \n",
       "21838  31/10/2023  out  20:00-21:00  segundo_turno  linha_06  protetor_solar   \n",
       "21839  31/10/2023  out  21:00-22:00  segundo_turno  linha_06  protetor_solar   \n",
       "\n",
       "       produtividade  \n",
       "21835           1625  \n",
       "21836           1682  \n",
       "21837           1826  \n",
       "21838            796  \n",
       "21839            957  "
      ]
     },
     "execution_count": 6,
     "metadata": {},
     "output_type": "execute_result"
    }
   ],
   "source": [
    "# 04- Verificar as ultimas linhas do dataframe\n",
    "dfprod.tail() "
   ]
  },
  {
   "cell_type": "code",
   "execution_count": 7,
   "id": "4bb8114b",
   "metadata": {},
   "outputs": [
    {
     "name": "stdout",
     "output_type": "stream",
     "text": [
      "<class 'pandas.core.frame.DataFrame'>\n",
      "RangeIndex: 21840 entries, 0 to 21839\n",
      "Data columns (total 7 columns):\n",
      " #   Column         Non-Null Count  Dtype \n",
      "---  ------         --------------  ----- \n",
      " 0   data_sep       21840 non-null  object\n",
      " 1   mes            21840 non-null  object\n",
      " 2   hora_sep       21840 non-null  object\n",
      " 3   turno_sep      21840 non-null  object\n",
      " 4   linha_sep      21840 non-null  object\n",
      " 5   categoria      21840 non-null  object\n",
      " 6   produtividade  21840 non-null  int64 \n",
      "dtypes: int64(1), object(6)\n",
      "memory usage: 1.2+ MB\n"
     ]
    }
   ],
   "source": [
    "# 05- Fornecer informações concisas sobre um DataFrame.\n",
    "dfprod.info()"
   ]
  },
  {
   "cell_type": "code",
   "execution_count": 8,
   "id": "89c242df",
   "metadata": {},
   "outputs": [
    {
     "data": {
      "text/html": [
       "<div>\n",
       "<style scoped>\n",
       "    .dataframe tbody tr th:only-of-type {\n",
       "        vertical-align: middle;\n",
       "    }\n",
       "\n",
       "    .dataframe tbody tr th {\n",
       "        vertical-align: top;\n",
       "    }\n",
       "\n",
       "    .dataframe thead th {\n",
       "        text-align: right;\n",
       "    }\n",
       "</style>\n",
       "<table border=\"1\" class=\"dataframe\">\n",
       "  <thead>\n",
       "    <tr style=\"text-align: right;\">\n",
       "      <th></th>\n",
       "      <th>produtividade</th>\n",
       "    </tr>\n",
       "  </thead>\n",
       "  <tbody>\n",
       "    <tr>\n",
       "      <th>0</th>\n",
       "      <td>1000</td>\n",
       "    </tr>\n",
       "    <tr>\n",
       "      <th>1</th>\n",
       "      <td>2849</td>\n",
       "    </tr>\n",
       "    <tr>\n",
       "      <th>2</th>\n",
       "      <td>823</td>\n",
       "    </tr>\n",
       "    <tr>\n",
       "      <th>3</th>\n",
       "      <td>2478</td>\n",
       "    </tr>\n",
       "    <tr>\n",
       "      <th>4</th>\n",
       "      <td>1678</td>\n",
       "    </tr>\n",
       "    <tr>\n",
       "      <th>...</th>\n",
       "      <td>...</td>\n",
       "    </tr>\n",
       "    <tr>\n",
       "      <th>21835</th>\n",
       "      <td>1625</td>\n",
       "    </tr>\n",
       "    <tr>\n",
       "      <th>21836</th>\n",
       "      <td>1682</td>\n",
       "    </tr>\n",
       "    <tr>\n",
       "      <th>21837</th>\n",
       "      <td>1826</td>\n",
       "    </tr>\n",
       "    <tr>\n",
       "      <th>21838</th>\n",
       "      <td>796</td>\n",
       "    </tr>\n",
       "    <tr>\n",
       "      <th>21839</th>\n",
       "      <td>957</td>\n",
       "    </tr>\n",
       "  </tbody>\n",
       "</table>\n",
       "<p>21840 rows × 1 columns</p>\n",
       "</div>"
      ],
      "text/plain": [
       "       produtividade\n",
       "0               1000\n",
       "1               2849\n",
       "2                823\n",
       "3               2478\n",
       "4               1678\n",
       "...              ...\n",
       "21835           1625\n",
       "21836           1682\n",
       "21837           1826\n",
       "21838            796\n",
       "21839            957\n",
       "\n",
       "[21840 rows x 1 columns]"
      ]
     },
     "execution_count": 8,
     "metadata": {},
     "output_type": "execute_result"
    }
   ],
   "source": [
    "# 06- Selecionar todas as colunas no DataFrame que têm o tipo de dados int64 (inteiros)\n",
    "dfprod.select_dtypes(include='int64')"
   ]
  },
  {
   "cell_type": "markdown",
   "id": "3c7e87db",
   "metadata": {},
   "source": [
    "Temos no dataframe 21840 linhas e 1 coluna que têm o tipo de dados int64 (inteiros)"
   ]
  },
  {
   "cell_type": "code",
   "execution_count": 9,
   "id": "7b5abcbe",
   "metadata": {},
   "outputs": [
    {
     "data": {
      "text/html": [
       "<div>\n",
       "<style scoped>\n",
       "    .dataframe tbody tr th:only-of-type {\n",
       "        vertical-align: middle;\n",
       "    }\n",
       "\n",
       "    .dataframe tbody tr th {\n",
       "        vertical-align: top;\n",
       "    }\n",
       "\n",
       "    .dataframe thead th {\n",
       "        text-align: right;\n",
       "    }\n",
       "</style>\n",
       "<table border=\"1\" class=\"dataframe\">\n",
       "  <thead>\n",
       "    <tr style=\"text-align: right;\">\n",
       "      <th></th>\n",
       "      <th>data_sep</th>\n",
       "      <th>mes</th>\n",
       "      <th>hora_sep</th>\n",
       "      <th>turno_sep</th>\n",
       "      <th>linha_sep</th>\n",
       "      <th>categoria</th>\n",
       "    </tr>\n",
       "  </thead>\n",
       "  <tbody>\n",
       "    <tr>\n",
       "      <th>0</th>\n",
       "      <td>02/01/2023</td>\n",
       "      <td>jan</td>\n",
       "      <td>06:00-07:00</td>\n",
       "      <td>primeiro_turno</td>\n",
       "      <td>linha_01</td>\n",
       "      <td>shampoos</td>\n",
       "    </tr>\n",
       "    <tr>\n",
       "      <th>1</th>\n",
       "      <td>02/01/2023</td>\n",
       "      <td>jan</td>\n",
       "      <td>07:00-08:00</td>\n",
       "      <td>primeiro_turno</td>\n",
       "      <td>linha_01</td>\n",
       "      <td>shampoos</td>\n",
       "    </tr>\n",
       "    <tr>\n",
       "      <th>2</th>\n",
       "      <td>02/01/2023</td>\n",
       "      <td>jan</td>\n",
       "      <td>08:00-09:00</td>\n",
       "      <td>primeiro_turno</td>\n",
       "      <td>linha_01</td>\n",
       "      <td>shampoos</td>\n",
       "    </tr>\n",
       "    <tr>\n",
       "      <th>3</th>\n",
       "      <td>02/01/2023</td>\n",
       "      <td>jan</td>\n",
       "      <td>09:00-10:00</td>\n",
       "      <td>primeiro_turno</td>\n",
       "      <td>linha_01</td>\n",
       "      <td>shampoos</td>\n",
       "    </tr>\n",
       "    <tr>\n",
       "      <th>4</th>\n",
       "      <td>02/01/2023</td>\n",
       "      <td>jan</td>\n",
       "      <td>10:00-11:00</td>\n",
       "      <td>primeiro_turno</td>\n",
       "      <td>linha_01</td>\n",
       "      <td>shampoos</td>\n",
       "    </tr>\n",
       "    <tr>\n",
       "      <th>...</th>\n",
       "      <td>...</td>\n",
       "      <td>...</td>\n",
       "      <td>...</td>\n",
       "      <td>...</td>\n",
       "      <td>...</td>\n",
       "      <td>...</td>\n",
       "    </tr>\n",
       "    <tr>\n",
       "      <th>21835</th>\n",
       "      <td>31/10/2023</td>\n",
       "      <td>out</td>\n",
       "      <td>16:00-17:00</td>\n",
       "      <td>segundo_turno</td>\n",
       "      <td>linha_06</td>\n",
       "      <td>protetor_solar</td>\n",
       "    </tr>\n",
       "    <tr>\n",
       "      <th>21836</th>\n",
       "      <td>31/10/2023</td>\n",
       "      <td>out</td>\n",
       "      <td>17:00-18:00</td>\n",
       "      <td>segundo_turno</td>\n",
       "      <td>linha_06</td>\n",
       "      <td>protetor_solar</td>\n",
       "    </tr>\n",
       "    <tr>\n",
       "      <th>21837</th>\n",
       "      <td>31/10/2023</td>\n",
       "      <td>out</td>\n",
       "      <td>19:00-20:00</td>\n",
       "      <td>segundo_turno</td>\n",
       "      <td>linha_06</td>\n",
       "      <td>protetor_solar</td>\n",
       "    </tr>\n",
       "    <tr>\n",
       "      <th>21838</th>\n",
       "      <td>31/10/2023</td>\n",
       "      <td>out</td>\n",
       "      <td>20:00-21:00</td>\n",
       "      <td>segundo_turno</td>\n",
       "      <td>linha_06</td>\n",
       "      <td>protetor_solar</td>\n",
       "    </tr>\n",
       "    <tr>\n",
       "      <th>21839</th>\n",
       "      <td>31/10/2023</td>\n",
       "      <td>out</td>\n",
       "      <td>21:00-22:00</td>\n",
       "      <td>segundo_turno</td>\n",
       "      <td>linha_06</td>\n",
       "      <td>protetor_solar</td>\n",
       "    </tr>\n",
       "  </tbody>\n",
       "</table>\n",
       "<p>21840 rows × 6 columns</p>\n",
       "</div>"
      ],
      "text/plain": [
       "         data_sep  mes     hora_sep       turno_sep linha_sep       categoria\n",
       "0      02/01/2023  jan  06:00-07:00  primeiro_turno  linha_01        shampoos\n",
       "1      02/01/2023  jan  07:00-08:00  primeiro_turno  linha_01        shampoos\n",
       "2      02/01/2023  jan  08:00-09:00  primeiro_turno  linha_01        shampoos\n",
       "3      02/01/2023  jan  09:00-10:00  primeiro_turno  linha_01        shampoos\n",
       "4      02/01/2023  jan  10:00-11:00  primeiro_turno  linha_01        shampoos\n",
       "...           ...  ...          ...             ...       ...             ...\n",
       "21835  31/10/2023  out  16:00-17:00   segundo_turno  linha_06  protetor_solar\n",
       "21836  31/10/2023  out  17:00-18:00   segundo_turno  linha_06  protetor_solar\n",
       "21837  31/10/2023  out  19:00-20:00   segundo_turno  linha_06  protetor_solar\n",
       "21838  31/10/2023  out  20:00-21:00   segundo_turno  linha_06  protetor_solar\n",
       "21839  31/10/2023  out  21:00-22:00   segundo_turno  linha_06  protetor_solar\n",
       "\n",
       "[21840 rows x 6 columns]"
      ]
     },
     "execution_count": 9,
     "metadata": {},
     "output_type": "execute_result"
    }
   ],
   "source": [
    "# 07- Selecionar todas as colunas no DataFrame que têm o tipo de dados object (texto)\n",
    "dfprod.select_dtypes(include='object')"
   ]
  },
  {
   "cell_type": "markdown",
   "id": "fcc8f899",
   "metadata": {},
   "source": [
    "Temos no dataframe 21840 linhas e 06 colunas que têm o tipo de dados object (texto)"
   ]
  },
  {
   "cell_type": "code",
   "execution_count": 10,
   "id": "b7beb96b",
   "metadata": {
    "scrolled": true
   },
   "outputs": [
    {
     "data": {
      "text/html": [
       "<div>\n",
       "<style scoped>\n",
       "    .dataframe tbody tr th:only-of-type {\n",
       "        vertical-align: middle;\n",
       "    }\n",
       "\n",
       "    .dataframe tbody tr th {\n",
       "        vertical-align: top;\n",
       "    }\n",
       "\n",
       "    .dataframe thead th {\n",
       "        text-align: right;\n",
       "    }\n",
       "</style>\n",
       "<table border=\"1\" class=\"dataframe\">\n",
       "  <thead>\n",
       "    <tr style=\"text-align: right;\">\n",
       "      <th></th>\n",
       "      <th>produtividade</th>\n",
       "    </tr>\n",
       "  </thead>\n",
       "  <tbody>\n",
       "    <tr>\n",
       "      <th>count</th>\n",
       "      <td>21840.000000</td>\n",
       "    </tr>\n",
       "    <tr>\n",
       "      <th>mean</th>\n",
       "      <td>1784.430998</td>\n",
       "    </tr>\n",
       "    <tr>\n",
       "      <th>std</th>\n",
       "      <td>621.079955</td>\n",
       "    </tr>\n",
       "    <tr>\n",
       "      <th>min</th>\n",
       "      <td>600.000000</td>\n",
       "    </tr>\n",
       "    <tr>\n",
       "      <th>25%</th>\n",
       "      <td>1289.000000</td>\n",
       "    </tr>\n",
       "    <tr>\n",
       "      <th>50%</th>\n",
       "      <td>1761.000000</td>\n",
       "    </tr>\n",
       "    <tr>\n",
       "      <th>75%</th>\n",
       "      <td>2282.000000</td>\n",
       "    </tr>\n",
       "    <tr>\n",
       "      <th>max</th>\n",
       "      <td>3000.000000</td>\n",
       "    </tr>\n",
       "  </tbody>\n",
       "</table>\n",
       "</div>"
      ],
      "text/plain": [
       "       produtividade\n",
       "count   21840.000000\n",
       "mean     1784.430998\n",
       "std       621.079955\n",
       "min       600.000000\n",
       "25%      1289.000000\n",
       "50%      1761.000000\n",
       "75%      2282.000000\n",
       "max      3000.000000"
      ]
     },
     "execution_count": 10,
     "metadata": {},
     "output_type": "execute_result"
    }
   ],
   "source": [
    "# 08- Gerar estatísticas descritivas para as colunas numéricas int64 (inteiros) do DataFrame\n",
    "# Qual é a média, mediana, 25 percentil, 75 percentil, mínimo e máximo das colunas de produtividade\n",
    "\n",
    "dfprod.describe()"
   ]
  },
  {
   "cell_type": "markdown",
   "id": "03042b86",
   "metadata": {},
   "source": [
    "O valor máximo de produtividade da linha de separação foi de 3.000 peças"
   ]
  },
  {
   "cell_type": "code",
   "execution_count": 11,
   "id": "a5166303",
   "metadata": {},
   "outputs": [
    {
     "data": {
      "text/plain": [
       "0"
      ]
     },
     "execution_count": 11,
     "metadata": {},
     "output_type": "execute_result"
    }
   ],
   "source": [
    "# 10 - retornar o número total de linhas duplicadas no DataFrame df\n",
    "# Não temos no dataframe nenhuma linha duplicada\n",
    "\n",
    "dfprod.duplicated().sum()"
   ]
  },
  {
   "cell_type": "markdown",
   "id": "fbcacc4a",
   "metadata": {},
   "source": [
    "## Respondendo as perguntas de negócios"
   ]
  },
  {
   "cell_type": "markdown",
   "id": "b547fcd3",
   "metadata": {},
   "source": [
    "**01- Qual é a distribuição da separação de unid/h do centro de distrbuição?**"
   ]
  },
  {
   "cell_type": "code",
   "execution_count": 12,
   "id": "24132c81",
   "metadata": {},
   "outputs": [
    {
     "data": {
      "image/png": "[encoded data removed]",
      "text/plain": [
       "<Figure size 640x480 with 1 Axes>"
      ]
     },
     "metadata": {},
     "output_type": "display_data"
    }
   ],
   "source": [
    "# Criar histograma com detalhes adicionais\n",
    "dfprod[\"produtividade\"].hist(bins=30, edgecolor='black')\n",
    "plt.title('Histograma de Produtividade Linhas')\n",
    "plt.xlabel('Produtividade')\n",
    "plt.ylabel('Frequência')\n",
    "plt.show()"
   ]
  },
  {
   "cell_type": "code",
   "execution_count": 13,
   "id": "9e273f9d",
   "metadata": {},
   "outputs": [
    {
     "data": {
      "text/plain": [
       "<Axes: >"
      ]
     },
     "execution_count": 13,
     "metadata": {},
     "output_type": "execute_result"
    },
    {
     "data": {
      "image/png": "[encoded data removed]",
      "text/plain": [
       "<Figure size 640x480 with 1 Axes>"
      ]
     },
     "metadata": {},
     "output_type": "display_data"
    }
   ],
   "source": [
    "# Criar bloxplot\n",
    "sns.boxplot(dfprod[\"produtividade\"])"
   ]
  },
  {
   "cell_type": "markdown",
   "id": "844935c8",
   "metadata": {},
   "source": [
    "**Analise dos resultados do boxplot** \n",
    "\n",
    "**Mediana:** A Mediana da produtividade é de 1.761 unidades/hora, indicando que metade das unidades separadas no Centro de Distribuição, entre 02-01-2023 e 31-10-2023, estão acima desse valor. O intervalo, do valor mínimo até a Mediana - Q2, informa que temos 50% da separação de unidades/h abaixo de 1.761 unid. Dentro desse intervalo encontramos 14,12% de produtividade acima de 1.500 unid.,que é a meta. Dessa forma, 64,12%  da separação de unidades/h do centro de distribuição está acima da meta.\n",
    "\n",
    "**A Média e Mediana:** Com valores próximos, a Média de 1.784 unidades/h e a Mediana de 1.761 unidades/h, a distribuição é aproximadamente simétrica, o que é bom em termos de estabilidade do processo.\n",
    "\n",
    "**Outliers:** Não foram detectados no boxplot valores extremos, o que sugere uma consistência na separação de unidades/h.\n",
    "\n",
    "**Conclusão:** O processo parece operar de maneira consistente, com uma produção que, na maioria das vezes, atende ou supera a meta de 1.500 unidades/hora. \n",
    "\n",
    "**Ponto de Observação:** Recomendavel analisar a variabilidade nos dados entre o minimo e o Q2(mediaama) para decsrever as causas dessa variação, que leva o processo a ter 35,88% abaixo da meta de 1.500 unidades/h\n"
   ]
  },
  {
   "cell_type": "code",
   "execution_count": 14,
   "id": "4cfb742d",
   "metadata": {},
   "outputs": [
    {
     "data": {
      "text/plain": [
       "0.3480549015573444"
      ]
     },
     "execution_count": 14,
     "metadata": {},
     "output_type": "execute_result"
    }
   ],
   "source": [
    "#calcular o coeficiente de variação\n",
    "#Coeficiente de variação: Medida relativa de variabilidade em relação à média.\n",
    "    \n",
    "dfprod[\"produtividade\"].std()/dfprod[\"produtividade\"].mean()"
   ]
  },
  {
   "cell_type": "markdown",
   "id": "69ad9b6b",
   "metadata": {},
   "source": [
    "**Analise dos resultados do coeficiente de variação**\n",
    "\n",
    "**CV:** 0.348 indica uma variabilidade moderada em relação à média. Isso pode ser interpretado como uma certa estabilidade no processo, mas ainda com uma quantidade significativa de variação."
   ]
  },
  {
   "cell_type": "code",
   "execution_count": 15,
   "id": "30f7035f",
   "metadata": {},
   "outputs": [
    {
     "data": {
      "text/plain": [
       "0.08907276616386502"
      ]
     },
     "execution_count": 15,
     "metadata": {},
     "output_type": "execute_result"
    }
   ],
   "source": [
    "# Calcular a assimetria, ou \"skew\"\n",
    "# Entender a forma da distribuição de um conjunto de dados (produtividade) \n",
    "# Descreve a inclinação ou distorção de uma distribuição em relação à sua média.\n",
    "# Skewness = 0: Indica que a distribuição é perfeitamente simétrica.\n",
    "# Skewness > 0: Indica assimetria à direita (a cauda direita é mais longa).\n",
    "# Skewness < 0: Indica assimetria à esquerda (a cauda esquerda é mais longa).\n",
    "\n",
    "dfprod[\"produtividade\"].skew() "
   ]
  },
  {
   "cell_type": "markdown",
   "id": "4ea2a604",
   "metadata": {},
   "source": [
    "**Analise dos resultado**\n",
    "\n",
    "**Skew (Assimetria):** 0.08907276616386502\n",
    "\n",
    "Com um valor muito próximo de zero, a distribuição da coluna \"produtividade\" parece ser aproximadamente simétrica. O que é uma boa notícia em termos de consistência na separação de uniaddes.Isso significa que não há uma tendência clara de os dados se concentrarem mais para um lado do que para o outro."
   ]
  },
  {
   "cell_type": "markdown",
   "id": "36f874b7",
   "metadata": {},
   "source": [
    "**03- Existe uma vriação de separação de unidades/h e por turnos de trabalho?**"
   ]
  },
  {
   "cell_type": "code",
   "execution_count": 16,
   "id": "7ce4d2d1",
   "metadata": {},
   "outputs": [
    {
     "data": {
      "image/png": "[encoded data removed]",
      "text/plain": [
       "<Figure size 640x480 with 1 Axes>"
      ]
     },
     "metadata": {},
     "output_type": "display_data"
    }
   ],
   "source": [
    "df_media_turno = dfprod.groupby([\"turno_sep\"])[\"produtividade\"].mean().reset_index()\n",
    "dfturnos = df_media_turno.rename(columns={'produtividade': 'Media_produtividade_turno'})\n",
    "# Criar uma lista de cores para cada linha_sep\n",
    "cores = ['steelblue', 'green']  # Adicione mais cores conforme necessário\n",
    "# Criar o gráfico de barras\n",
    "# Criar o gráfico de barras\n",
    "fig, ax = plt.subplots()\n",
    "bars = ax.bar(dfturnos[\"turno_sep\"], dfturnos['Media_produtividade_turno'], color=cores)\n",
    "# Adicionar uma linha horizontal para a média de 1500 peças\n",
    "ax.axhline(y=1500, color='black', linestyle='-', label='Média de 1500 peças')\n",
    "# Adicionar rótulos\n",
    "ax.set_xlabel('Turnos')\n",
    "ax.set_ylabel('Separação unid/h')\n",
    "ax.set_title('Média de Separação unid/h - Turnos')\n",
    "# Adicionar os valores no centro de cada barra\n",
    "for bar in bars:\n",
    "    yval = bar.get_height()\n",
    "    plt.text(bar.get_x() + bar.get_width()/2, yval, round(yval, 2),\\\n",
    "             ha='center', va='bottom', color='black')\n",
    "# Exibir o gráfico\n",
    "plt.show()\n"
   ]
  },
  {
   "cell_type": "code",
   "execution_count": 17,
   "id": "5c8b6b61",
   "metadata": {},
   "outputs": [],
   "source": [
    "# Não existe uma vriação de unidades separadas/h por turnos de trabalho,\n",
    "# a média dos turnos (mean) encontram-se próxima."
   ]
  },
  {
   "cell_type": "markdown",
   "id": "df43dec9",
   "metadata": {},
   "source": [
    "**04 - Como a separação de unidades varia por hora do dia? Existem horas específicas com maior ou menor separação?**\n"
   ]
  },
  {
   "cell_type": "code",
   "execution_count": 18,
   "id": "abec6be6",
   "metadata": {},
   "outputs": [
    {
     "data": {
      "image/png": "[encoded data removed]",
      "text/plain": [
       "<Figure size 2000x1000 with 1 Axes>"
      ]
     },
     "metadata": {},
     "output_type": "display_data"
    }
   ],
   "source": [
    "# Código para agrupar e renomear colunas\n",
    "dfhora_sep = dfprod.groupby([\"hora_sep\"])[\"produtividade\"].mean().reset_index()\n",
    "dfhora_sep1 = dfhora_sep.rename(columns={'produtividade': 'Media_produtividade_hora'})\n",
    "\n",
    "# Criar o gráfico de barras\n",
    "plt.figure(figsize=(20, 10))\n",
    "plt.bar(dfhora_sep1[\"hora_sep\"], dfhora_sep1[\"Media_produtividade_hora\"], color='steelblue')\n",
    "\n",
    "# Adicionar uma linha horizontal para a média de 1500 peças\n",
    "plt.axhline(y=1500, color='black', linestyle='-', label='Média de 1500 peças')\n",
    "\n",
    "# Adicionar rótulos e título com tamanho de letra aumentado\n",
    "plt.xlabel('Hora de Separação', fontsize=14)\n",
    "plt.ylabel('Separação unid/h', fontsize=14)\n",
    "plt.title('Média de Separação unid/h', fontsize=16)\n",
    "\n",
    "# Ajustar tamanho da fonte das marcações no eixo x\n",
    "plt.xticks(fontsize= 12)\n",
    "\n",
    "# Adicionar legenda\n",
    "plt.legend()\n",
    "\n",
    "# Exibir o gráfico\n",
    "plt.show()"
   ]
  },
  {
   "cell_type": "code",
   "execution_count": 19,
   "id": "bff31dfb",
   "metadata": {},
   "outputs": [],
   "source": [
    "# Não existe uma variação de unidades separadas ao longo das horas do dia.\n",
    "# A média (mean) estão muitos próximas hora a hora.\n",
    "# Existe duas horas do dia, 14:00-15:00 e 19:00-20:00 que a média de chega 1.800 unid.\n",
    "# Os restante das horas estão na casa de 17.000 unid."
   ]
  },
  {
   "cell_type": "markdown",
   "id": "3619b030",
   "metadata": {},
   "source": [
    "**05- Há evidências significativas de variação na separação de unidades/h ao longo dos meses?**"
   ]
  },
  {
   "cell_type": "code",
   "execution_count": 20,
   "id": "7e44c563",
   "metadata": {},
   "outputs": [
    {
     "name": "stdout",
     "output_type": "stream",
     "text": [
      "   mes  Media_produtividade_mes\n",
      "0  abr              1804.519048\n",
      "1  ago              1766.846120\n",
      "2  fev              1781.821925\n",
      "3  jan              1794.114469\n",
      "4  jul              1778.545330\n",
      "5  jun              1774.952839\n",
      "6  mai              1782.758818\n",
      "7  mar              1798.663139\n",
      "8  out              1784.414835\n",
      "9  set              1778.438645\n"
     ]
    }
   ],
   "source": [
    "dfmes = dfprod.groupby([\"mes\"])[\"produtividade\"].mean().reset_index()\n",
    "dfmeses = dfmes.rename(columns={'produtividade': 'Media_produtividade_mes'})\n",
    "print(dfmeses)"
   ]
  },
  {
   "cell_type": "markdown",
   "id": "2d92b46a",
   "metadata": {},
   "source": [
    "**06- Qual é a análise da separação de unidades/hora, considerando a variável da categoria?**"
   ]
  },
  {
   "cell_type": "code",
   "execution_count": 21,
   "id": "17f638bd",
   "metadata": {},
   "outputs": [
    {
     "name": "stdout",
     "output_type": "stream",
     "text": [
      "            categoria  Media_produtividade_categoria\n",
      "0       condicionador                    1814.078022\n",
      "1   hidratante_facial                    2068.111813\n",
      "2  mascara_hidratacao                    1573.838187\n",
      "3        oleo_capilar                    2097.084890\n",
      "4      protetor_solar                    1310.256868\n",
      "5            shampoos                    1843.216209\n"
     ]
    }
   ],
   "source": [
    "dfcategorias = dfprod.groupby([\"categoria\"])[\"produtividade\"].mean().reset_index()\n",
    "dfcategorias02 = dfcategorias.rename(columns={'produtividade': 'Media_produtividade_categoria'})\n",
    "print(dfcategorias02)"
   ]
  },
  {
   "cell_type": "code",
   "execution_count": 22,
   "id": "ad59deb0",
   "metadata": {},
   "outputs": [],
   "source": [
    "# Existem variações nas médias de separação de unidades/h para diferentes categorias de produtos. \n",
    "# A média mais elevada é encontrada na categoria de óleo capilar, com 2097 unidades/h.\n",
    "# A média mais baixa pertence à categoria de protetor solar, com 1310 unidades/h.\n",
    "# Isso indica disparidades na eficiência operacional ou na demanda entre as categorias. \n"
   ]
  },
  {
   "cell_type": "markdown",
   "id": "2d781026",
   "metadata": {},
   "source": [
    "Quais Linhas de separação estão abaixo da meta de 1.500 unidades/h ?"
   ]
  },
  {
   "cell_type": "code",
   "execution_count": 23,
   "id": "bc8a09d7",
   "metadata": {},
   "outputs": [
    {
     "data": {
      "image/png": "[encoded data removed]",
      "text/plain": [
       "<Figure size 640x480 with 1 Axes>"
      ]
     },
     "metadata": {},
     "output_type": "display_data"
    }
   ],
   "source": [
    "# Calcular as médias por linha e renomear a coluna\n",
    "dfmedia_linhas = dfprod.groupby([\"linha_sep\"])[\"produtividade\"].mean().reset_index()\n",
    "dfmedia_linhas02 = dfmedia_linhas.rename(columns={'produtividade': 'Media_produtividade'})\n",
    "# Criar uma lista de cores para cada linha_sep\n",
    "cores = ['steelblue', 'green', 'orange', 'red', 'purple']  # Adicione mais cores conforme necessário\n",
    "# Criar o gráfico de barras\n",
    "fig, ax = plt.subplots()\n",
    "bars = ax.bar(dfmedia_linhas02['linha_sep'], dfmedia_linhas02['Media_produtividade'], color=cores)\n",
    "# Adicionar uma linha horizontal para a média de 1500 peças\n",
    "ax.axhline(y=1500, color='black', linestyle='-', label='Média de 1500 peças')\n",
    "# Adicionar rótulos\n",
    "ax.set_xlabel('Linhas de Separação')\n",
    "ax.set_ylabel('separação unid/h')\n",
    "ax.set_title('Média de Separação unid/h Linhas')\n",
    "# Adicionar os valores no centro de cada barra\n",
    "for bar in bars:\n",
    "    yval = bar.get_height()\n",
    "    ax.text(bar.get_x() + bar.get_width()/2, yval, round(yval, 2),\\\n",
    "            ha= 'center', va='bottom', color='black')\n",
    "# Exibir o gráfico\n",
    "plt.show()"
   ]
  },
  {
   "cell_type": "markdown",
   "id": "ad33a252",
   "metadata": {},
   "source": [
    "**Ponto de Observação:** \n",
    "\n",
    "* Temos 35,88% do processo de separação de unidades/h abaixo da meta de 1.500 unidades/h.\n",
    "* O gráfico informa Linha_06 com uma média de 1.310 unidades/h, abaixo da meta de 1.500 unidades/h.\n",
    "\n",
    "**Foco:** Aprofundar a análise na separação de peças da **linha 06**,"
   ]
  },
  {
   "cell_type": "markdown",
   "id": "3c3368d0",
   "metadata": {},
   "source": [
    "#### 03- Existe alguma relação entre horas do dia e a produtividade da linha 06 ? "
   ]
  },
  {
   "cell_type": "code",
   "execution_count": null,
   "id": "25ca6a33",
   "metadata": {
    "tags": [
     "esconder",
     "tudo"
    ]
   },
   "outputs": [],
   "source": []
  }
 ],
 "metadata": {
  "celltoolbar": "Tags",
  "kernelspec": {
   "display_name": "Python 3 (ipykernel)",
   "language": "python",
   "name": "python3"
  },
  "language_info": {
   "codemirror_mode": {
    "name": "ipython",
    "version": 3
   },
   "file_extension": ".py",
   "mimetype": "text/x-python",
   "name": "python",
   "nbconvert_exporter": "python",
   "pygments_lexer": "ipython3",
   "version": "3.11.5"
  }
 },
 "nbformat": 4,
 "nbformat_minor": 5
}
